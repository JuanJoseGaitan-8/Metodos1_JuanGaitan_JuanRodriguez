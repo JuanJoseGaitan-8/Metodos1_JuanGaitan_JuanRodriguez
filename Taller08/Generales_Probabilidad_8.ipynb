{
 "cells": [
  {
   "cell_type": "code",
   "execution_count": 1,
   "id": "57c57160",
   "metadata": {},
   "outputs": [],
   "source": [
    "\n",
    "from tqdm import tqdm \n",
    "import matplotlib.pyplot as plt\n",
    "import numpy as np\n"
   ]
  },
  {
   "cell_type": "code",
   "execution_count": 2,
   "id": "5611b8e9",
   "metadata": {},
   "outputs": [],
   "source": [
    "\n",
    "N = int(1e5)\n",
    "ncoins = 4\n",
    "events = [-1,1]\n",
    "Muestra = np.zeros((N,ncoins))\n"
   ]
  },
  {
   "cell_type": "code",
   "execution_count": 3,
   "id": "6d82c48a",
   "metadata": {},
   "outputs": [
    {
     "name": "stderr",
     "output_type": "stream",
     "text": [
      "100%|███████████████████████████████| 100000/100000 [00:04<00:00, 22588.74it/s]\n"
     ]
    }
   ],
   "source": [
    "\n",
    "for i in tqdm(range(N)):\n",
    "    exp = np.random.choice(events, ncoins)\n",
    "    Muestra[i] = exp\n"
   ]
  },
  {
   "cell_type": "code",
   "execution_count": 4,
   "id": "d02fded0",
   "metadata": {},
   "outputs": [
    {
     "name": "stdout",
     "output_type": "stream",
     "text": [
      "Resultado: 0.37456\n",
      "P(A):  0.375\n"
     ]
    }
   ],
   "source": [
    "\n",
    "Eventos = 0\n",
    "\n",
    "for i in range(len(Muestra)):\n",
    "    NCaras = 0\n",
    "    for j in range(ncoins):\n",
    "        if Muestra[i][j] == 1:\n",
    "            NCaras += 1\n",
    "    if NCaras == 2:\n",
    "        Eventos += 1\n",
    "        \n",
    "print(f'Resultado: {Eventos/N}') \n",
    "print(\"P(A): \" , 3/8 )\n"
   ]
  }
 ],
 "metadata": {
  "kernelspec": {
   "display_name": "Python 3 (ipykernel)",
   "language": "python",
   "name": "python3"
  },
  "language_info": {
   "codemirror_mode": {
    "name": "ipython",
    "version": 3
   },
   "file_extension": ".py",
   "mimetype": "text/x-python",
   "name": "python",
   "nbconvert_exporter": "python",
   "pygments_lexer": "ipython3",
   "version": "3.9.12"
  }
 },
 "nbformat": 4,
 "nbformat_minor": 5
}
