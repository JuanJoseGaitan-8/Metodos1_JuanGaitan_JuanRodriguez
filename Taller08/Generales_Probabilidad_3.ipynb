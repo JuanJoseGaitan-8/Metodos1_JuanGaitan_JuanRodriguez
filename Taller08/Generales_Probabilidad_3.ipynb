{
 "cells": [
  {
   "cell_type": "code",
   "execution_count": 1,
   "id": "57c57160",
   "metadata": {},
   "outputs": [],
   "source": [
    "\n",
    "PDiario = 60/100\n",
    "PCable = 80/100\n",
    "PUnion = 50/100\n"
   ]
  },
  {
   "cell_type": "markdown",
   "id": "82d70921",
   "metadata": {},
   "source": [
    "## a)"
   ]
  },
  {
   "cell_type": "code",
   "execution_count": 2,
   "id": "5611b8e9",
   "metadata": {},
   "outputs": [],
   "source": [
    "\n",
    "PCable_U_Diario = ( PDiario + PCable ) - PUnion\n"
   ]
  },
  {
   "cell_type": "code",
   "execution_count": 3,
   "id": "b57cb574",
   "metadata": {},
   "outputs": [
    {
     "name": "stdout",
     "output_type": "stream",
     "text": [
      "La probabilidad de tener una suscripción a al menos un servicio está dada por la probabilidad de la unión, P(C U D) = 0.8999999999999999\n"
     ]
    }
   ],
   "source": [
    "\n",
    "print(f'La probabilidad de tener una suscripción a al menos un servicio está dada por la probabilidad de la unión, P(C U D) = {PCable_U_Diario}')\n"
   ]
  },
  {
   "cell_type": "markdown",
   "id": "5e576afe",
   "metadata": {},
   "source": [
    "## b)"
   ]
  },
  {
   "cell_type": "code",
   "execution_count": 4,
   "id": "aeede4a6",
   "metadata": {},
   "outputs": [],
   "source": [
    "\n",
    "SoloCable = PCable_U_Diario - PDiario\n",
    "SoloDiario = PCable_U_Diario - PCable\n",
    "PSoloCable_U_SoloDiario = SoloCable + SoloDiario\n"
   ]
  },
  {
   "cell_type": "code",
   "execution_count": 5,
   "id": "ab8d9c7b",
   "metadata": {},
   "outputs": [
    {
     "data": {
      "text/plain": [
       "0.3999999999999998"
      ]
     },
     "execution_count": 5,
     "metadata": {},
     "output_type": "execute_result"
    }
   ],
   "source": [
    "\n",
    "PSoloCable_U_SoloDiario\n"
   ]
  },
  {
   "cell_type": "code",
   "execution_count": 6,
   "id": "178a7bbc",
   "metadata": {},
   "outputs": [
    {
     "name": "stdout",
     "output_type": "stream",
     "text": [
      "La probabilidad de que esté suscrito al diario o al cable, pero no a ambos servicios esta dado por, P(A n Bc) U P(B n Ac), que es: 0.4\n"
     ]
    }
   ],
   "source": [
    "\n",
    "print(f'La probabilidad de que esté suscrito al diario o al cable, pero no a ambos servicios esta dado por, P(A n Bc) U P(B n Ac), que es: {round(PSoloCable_U_SoloDiario,2)}')\n"
   ]
  }
 ],
 "metadata": {
  "kernelspec": {
   "display_name": "Python 3 (ipykernel)",
   "language": "python",
   "name": "python3"
  },
  "language_info": {
   "codemirror_mode": {
    "name": "ipython",
    "version": 3
   },
   "file_extension": ".py",
   "mimetype": "text/x-python",
   "name": "python",
   "nbconvert_exporter": "python",
   "pygments_lexer": "ipython3",
   "version": "3.9.12"
  }
 },
 "nbformat": 4,
 "nbformat_minor": 5
}
