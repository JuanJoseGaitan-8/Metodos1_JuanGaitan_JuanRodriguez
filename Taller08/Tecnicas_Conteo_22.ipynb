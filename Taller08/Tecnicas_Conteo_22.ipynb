{
 "cells": [
  {
   "cell_type": "code",
   "execution_count": 1,
   "id": "afc39b9f",
   "metadata": {},
   "outputs": [],
   "source": [
    "\n",
    "import numpy as np\n"
   ]
  },
  {
   "cell_type": "code",
   "execution_count": 2,
   "id": "005ae423",
   "metadata": {},
   "outputs": [],
   "source": [
    "\n",
    "def combinatoria( r , n ):\n",
    "    \n",
    "    numerador = np.math.factorial( r + n - 1 )\n",
    "    \n",
    "    denominador = np.math.factorial( r ) * np.math.factorial( n - 1 )\n",
    "    \n",
    "    com = numerador/denominador\n",
    "    \n",
    "    return com\n"
   ]
  },
  {
   "cell_type": "code",
   "execution_count": 3,
   "id": "c4633440",
   "metadata": {},
   "outputs": [],
   "source": [
    "\n",
    "respuesta = combinatoria(10,3)\n"
   ]
  },
  {
   "cell_type": "code",
   "execution_count": 4,
   "id": "de5abad1",
   "metadata": {},
   "outputs": [
    {
     "name": "stdout",
     "output_type": "stream",
     "text": [
      "El numero de sumas de 3 enteros no negativos que dan 10 es:66.0\n"
     ]
    }
   ],
   "source": [
    "\n",
    "print(f'El numero de sumas de 3 enteros no negativos que dan 10 es:{respuesta}')\n"
   ]
  }
 ],
 "metadata": {
  "kernelspec": {
   "display_name": "Python 3 (ipykernel)",
   "language": "python",
   "name": "python3"
  },
  "language_info": {
   "codemirror_mode": {
    "name": "ipython",
    "version": 3
   },
   "file_extension": ".py",
   "mimetype": "text/x-python",
   "name": "python",
   "nbconvert_exporter": "python",
   "pygments_lexer": "ipython3",
   "version": "3.9.12"
  }
 },
 "nbformat": 4,
 "nbformat_minor": 5
}
