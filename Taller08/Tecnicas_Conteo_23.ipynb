{
 "cells": [
  {
   "cell_type": "markdown",
   "id": "6196feb0",
   "metadata": {},
   "source": [
    "## Punto 23.\n"
   ]
  },
  {
   "cell_type": "code",
   "execution_count": 1,
   "id": "5070d08d",
   "metadata": {},
   "outputs": [],
   "source": [
    "\n",
    "import numpy as np\n"
   ]
  },
  {
   "cell_type": "code",
   "execution_count": 2,
   "id": "63cf4891",
   "metadata": {},
   "outputs": [],
   "source": [
    "\n",
    "def combinatoria( r , n ):\n",
    "    \n",
    "    numerador = np.math.factorial( r + n - 1 )\n",
    "    \n",
    "    denominador = np.math.factorial( r ) * np.math.factorial( n - 1 )\n",
    "    \n",
    "    com = numerador/denominador\n",
    "    \n",
    "    return com\n"
   ]
  },
  {
   "cell_type": "code",
   "execution_count": 4,
   "id": "93b79c01",
   "metadata": {},
   "outputs": [],
   "source": [
    "\n",
    "Respuesta_punto_23 = combinatoria(4,3)-3\n"
   ]
  },
  {
   "cell_type": "code",
   "execution_count": 6,
   "id": "4c256a93",
   "metadata": {},
   "outputs": [
    {
     "name": "stdout",
     "output_type": "stream",
     "text": [
      "El numero de cuantas formas se pueden distribuir los colores es: 12.0\n"
     ]
    }
   ],
   "source": [
    "\n",
    "print(f'El numero de cuantas formas se pueden distribuir los colores es: {Respuesta_punto_23}' )\n"
   ]
  },
  {
   "cell_type": "code",
   "execution_count": null,
   "id": "1e3f73d9",
   "metadata": {},
   "outputs": [],
   "source": []
  }
 ],
 "metadata": {
  "kernelspec": {
   "display_name": "Python 3 (ipykernel)",
   "language": "python",
   "name": "python3"
  },
  "language_info": {
   "codemirror_mode": {
    "name": "ipython",
    "version": 3
   },
   "file_extension": ".py",
   "mimetype": "text/x-python",
   "name": "python",
   "nbconvert_exporter": "python",
   "pygments_lexer": "ipython3",
   "version": "3.9.12"
  }
 },
 "nbformat": 4,
 "nbformat_minor": 5
}
