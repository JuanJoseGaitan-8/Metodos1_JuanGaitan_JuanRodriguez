{
 "cells": [
  {
   "cell_type": "code",
   "execution_count": 1,
   "id": "245a6003",
   "metadata": {},
   "outputs": [],
   "source": [
    "\n",
    "import numpy as np\n",
    "import matplotlib.pyplot as plt\n",
    "from scipy import integrate\n",
    "import sympy as sym\n",
    "from scipy.signal import argrelextrema\n"
   ]
  },
  {
   "cell_type": "markdown",
   "id": "058a86b7",
   "metadata": {},
   "source": [
    "## Punto 12\n",
    "Evaluar la integral por medio de la cuadratura de Gauss-Legendre con dos y tres puntos."
   ]
  },
  {
   "cell_type": "code",
   "execution_count": 2,
   "id": "553de301",
   "metadata": {},
   "outputs": [],
   "source": [
    "\n",
    "def df( f , x , h = 1e-6 ):\n",
    "    \n",
    "    return (f(x+h)-f(x-h))/(2*h)\n"
   ]
  },
  {
   "cell_type": "code",
   "execution_count": 3,
   "id": "48b9b913",
   "metadata": {},
   "outputs": [],
   "source": [
    "\n",
    "def Newton_Raphson(f,x1):\n",
    "    \n",
    "    x0 = x1 - ( f(x1) / df(f,x1) )\n",
    "    x1 = x0\n",
    "    \n",
    "    return x1\n"
   ]
  },
  {
   "cell_type": "code",
   "execution_count": 4,
   "id": "7cd07aea",
   "metadata": {},
   "outputs": [],
   "source": [
    "\n",
    "def Obtener_Raices(f,df,x, tolerancia=9):\n",
    "    \n",
    "    raices = np.array([])\n",
    "    \n",
    "    for i in x:\n",
    "        \n",
    "        raiz = Obtener_Newton(f,df,i)\n",
    "          \n",
    "        if raiz != False:\n",
    "            \n",
    "            croot = np.round( raiz, tolerancia ) \n",
    "            \n",
    "            if croot not in raices:\n",
    "                raices = np.append( raices, croot )\n",
    "                \n",
    "    raices.sort()\n",
    "    \n",
    "    return raices\n"
   ]
  },
  {
   "cell_type": "code",
   "execution_count": 5,
   "id": "e55cfa2a",
   "metadata": {},
   "outputs": [],
   "source": [
    "\n",
    "def Obtener_Legendre(n):\n",
    "    \n",
    "    x = sym.Symbol('x',Real=True)\n",
    "    y = sym.Symbol('y',Real=True)\n",
    "    \n",
    "    y = (x**2 - 1)**n\n",
    "    \n",
    "    p = sym.diff(y,x,n)/(2**n * np.math.factorial(n))\n",
    "    \n",
    "    return p\n"
   ]
  },
  {
   "cell_type": "code",
   "execution_count": 6,
   "id": "aa5e0fa1",
   "metadata": {},
   "outputs": [],
   "source": [
    "Legendre = []\n",
    "DerLegendre = []\n",
    "\n",
    "n=20\n",
    "\n",
    "for i in range(n+1):\n",
    "    Legendre.append(Obtener_Legendre(i))\n",
    "    DerLegendre.append(sym.diff(Obtener_Legendre(i)))"
   ]
  },
  {
   "cell_type": "code",
   "execution_count": 7,
   "id": "e94a47a6",
   "metadata": {},
   "outputs": [],
   "source": [
    "\n",
    "def Obtener_Polinomio(n):\n",
    "    \n",
    "    x = sym.Symbol('x',Real=True)\n",
    "    funcion = Legendre[n]\n",
    "    f = sym.lambdify(x,funcion) \n",
    "    \n",
    "    return f, funcion\n"
   ]
  },
  {
   "cell_type": "code",
   "execution_count": 8,
   "id": "77e4004c",
   "metadata": {},
   "outputs": [],
   "source": [
    "def Obtener_df_Polinomio(n):\n",
    "    \n",
    "    x = sym.Symbol( 'x' , Real = True )\n",
    "    f = DerLegendre[n]\n",
    "    df = sym.lambdify( x , f )  \n",
    "    \n",
    "    return df , f"
   ]
  },
  {
   "cell_type": "code",
   "execution_count": 9,
   "id": "36059ab4",
   "metadata": {},
   "outputs": [],
   "source": [
    "ListaRaices = []  \n",
    "\n",
    "Tolerancia = 9\n",
    "\n",
    "x = np.arange(-1,1,0.001)\n",
    "\n",
    "for n in range(1,21):\n",
    "    \n",
    "    f, funcion = Obtener_Polinomio(n)\n",
    "    y = f(x)\n",
    "    y_abs = np.abs(y)\n",
    "    mins = x[argrelextrema( y_abs , np.less )[0]]\n",
    "    \n",
    "    for i in range( len(mins) ):\n",
    "        mins[i]=Newton_Raphson(f,mins[i])       \n",
    "    ListaRaices.append(np.round(mins, Tolerancia))\n"
   ]
  },
  {
   "cell_type": "code",
   "execution_count": 10,
   "id": "5f1c80f8",
   "metadata": {},
   "outputs": [
    {
     "name": "stdout",
     "output_type": "stream",
     "text": [
      "La cuadratura de Gauss-Legendre con dos puntos es: 0.497041\n"
     ]
    }
   ],
   "source": [
    "# DOS PUNTOS\n",
    "\n",
    "raices2 = ListaRaices[1]\n",
    "pasos2 = []\n",
    "df_2_puntos, f = Obtener_df_Polinomio(2)\n",
    "\n",
    "for i in raices2:\n",
    "    pasos2.append( 2/(( 1- (i**2) )*(df_2_puntos(i)**2) ))\n",
    "    \n",
    "a = 1\n",
    "b = 2\n",
    "f2 = lambda x : 1/(x**2)\n",
    "t = 0.5 *((b-a)*raices2 + a + b)\n",
    "\n",
    "Integral_2puntos = 0.5*(b-a)*np.sum( pasos2 * f2(t) )\n",
    "print(f\"La cuadratura de Gauss-Legendre con dos puntos es: {round(Integral_2puntos,6)}\")\n",
    "\n"
   ]
  },
  {
   "cell_type": "code",
   "execution_count": 11,
   "id": "1455b7ef",
   "metadata": {},
   "outputs": [
    {
     "name": "stdout",
     "output_type": "stream",
     "text": [
      "La cuadratura de Gauss-Legendre con tres puntos es: 0.499874\n"
     ]
    }
   ],
   "source": [
    "# TRES PUNTOS\n",
    "\n",
    "raices3 = ListaRaices[2]\n",
    "pasos3 = []\n",
    "df_3_puntos, f = Obtener_df_Polinomio(3)\n",
    "\n",
    "for i in raices3:\n",
    "    pasos3.append( 2/(( 1- (i**2) )*(df_3_puntos(i)**2) ))\n",
    "    \n",
    "a = 1\n",
    "b = 2\n",
    "f3 =  lambda x : 1/(x**2)\n",
    "t = 0.5 *((b-a)*raices3 + a + b)\n",
    "Integral_3puntos = 0.5*(b-a)*np.sum( pasos3*f3(t) )\n",
    "\n",
    "print(f\"La cuadratura de Gauss-Legendre con tres puntos es: {round(Integral_3puntos,6)}\")\n"
   ]
  }
 ],
 "metadata": {
  "kernelspec": {
   "display_name": "Python 3 (ipykernel)",
   "language": "python",
   "name": "python3"
  },
  "language_info": {
   "codemirror_mode": {
    "name": "ipython",
    "version": 3
   },
   "file_extension": ".py",
   "mimetype": "text/x-python",
   "name": "python",
   "nbconvert_exporter": "python",
   "pygments_lexer": "ipython3",
   "version": "3.9.12"
  }
 },
 "nbformat": 4,
 "nbformat_minor": 5
}
