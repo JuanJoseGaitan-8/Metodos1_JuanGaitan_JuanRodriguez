{
 "cells": [
  {
   "cell_type": "code",
   "execution_count": 55,
   "id": "c24f361f",
   "metadata": {},
   "outputs": [],
   "source": [
    "import numpy as np\n",
    "import matplotlib.pyplot as plt"
   ]
  },
  {
   "cell_type": "code",
   "execution_count": 56,
   "id": "c7a75db1",
   "metadata": {},
   "outputs": [],
   "source": [
    "funcion = lambda x : (x**3)/(np.exp(x)-1)"
   ]
  },
  {
   "cell_type": "code",
   "execution_count": 72,
   "id": "3f9dffd6",
   "metadata": {},
   "outputs": [],
   "source": [
    "Roots,Weights = np.polynomial.legendre.leggauss(6)\n"
   ]
  },
  {
   "cell_type": "markdown",
   "id": "da284a8b",
   "metadata": {},
   "source": [
    "Punto a"
   ]
  },
  {
   "cell_type": "code",
   "execution_count": 62,
   "id": "1d35392d",
   "metadata": {},
   "outputs": [],
   "source": [
    "a = -1\n",
    "b = 1\n",
    "t = 0.5*((b-a)*Roots + a + b)"
   ]
  },
  {
   "cell_type": "code",
   "execution_count": 63,
   "id": "c163c102",
   "metadata": {},
   "outputs": [],
   "source": [
    "Integral = 0.5*(b-a)*np.sum( Weights*funcion(t) )"
   ]
  },
  {
   "cell_type": "code",
   "execution_count": 64,
   "id": "9f2f12a1",
   "metadata": {},
   "outputs": [
    {
     "data": {
      "text/plain": [
       "(0.699610376037666, 6.493939402266828)"
      ]
     },
     "execution_count": 64,
     "metadata": {},
     "output_type": "execute_result"
    }
   ],
   "source": [
    "resultado_integral = np.pi**4/15\n",
    "Integral, resultado_integral"
   ]
  },
  {
   "cell_type": "markdown",
   "id": "518ffd64",
   "metadata": {},
   "source": [
    "Punto b."
   ]
  },
  {
   "cell_type": "code",
   "execution_count": 41,
   "id": "bb6d74d1",
   "metadata": {},
   "outputs": [],
   "source": [
    "valores = [(2,3,4,5,6,7,8,9,10)]"
   ]
  },
  {
   "cell_type": "code",
   "execution_count": 42,
   "id": "bdbc8fb7",
   "metadata": {},
   "outputs": [
    {
     "data": {
      "text/plain": [
       "[(2, 3, 4, 5, 6, 7, 8, 9, 10)]"
      ]
     },
     "execution_count": 42,
     "metadata": {},
     "output_type": "execute_result"
    }
   ],
   "source": [
    "valores"
   ]
  },
  {
   "cell_type": "code",
   "execution_count": 94,
   "id": "156434b8",
   "metadata": {},
   "outputs": [
    {
     "ename": "ValueError",
     "evalue": "operands could not be broadcast together with shapes (3,) (2,) ",
     "output_type": "error",
     "traceback": [
      "\u001b[1;31m---------------------------------------------------------------------------\u001b[0m",
      "\u001b[1;31mValueError\u001b[0m                                Traceback (most recent call last)",
      "Input \u001b[1;32mIn [94]\u001b[0m, in \u001b[0;36m<cell line: 6>\u001b[1;34m()\u001b[0m\n\u001b[0;32m      7\u001b[0m t \u001b[38;5;241m=\u001b[39m \u001b[38;5;241m0.5\u001b[39m\u001b[38;5;241m*\u001b[39m((c\u001b[38;5;241m-\u001b[39md)\u001b[38;5;241m*\u001b[39mRoots \u001b[38;5;241m+\u001b[39m c \u001b[38;5;241m+\u001b[39m d)\n\u001b[0;32m      8\u001b[0m Roots,Weights \u001b[38;5;241m=\u001b[39m np\u001b[38;5;241m.\u001b[39mpolynomial\u001b[38;5;241m.\u001b[39mlaguerre\u001b[38;5;241m.\u001b[39mlaggauss(i)\n\u001b[1;32m----> 9\u001b[0m integral \u001b[38;5;241m=\u001b[39m np\u001b[38;5;241m.\u001b[39msum(\u001b[43mWeights\u001b[49m\u001b[38;5;241;43m*\u001b[39;49m\u001b[43mfuncion\u001b[49m\u001b[43m(\u001b[49m\u001b[43mt\u001b[49m\u001b[43m)\u001b[49m)\n\u001b[0;32m     10\u001b[0m numero_errores \u001b[38;5;241m=\u001b[39m (Integral\u001b[38;5;241m/\u001b[39mresultado_integral)\n\u001b[0;32m     12\u001b[0m cantidad_de_error\u001b[38;5;241m.\u001b[39mappend(numero_errores)\n",
      "\u001b[1;31mValueError\u001b[0m: operands could not be broadcast together with shapes (3,) (2,) "
     ]
    }
   ],
   "source": [
    "c = -1\n",
    "d = -1\n",
    "cantidad_de_error = []\n",
    "\n",
    "for i in range (2,11,1):\n",
    "    t = 0.5*((c-d)*Roots + c + d)\n",
    "    Roots,Weights = np.polynomial.laguerre.laggauss(i)\n",
    "    integral = np.sum(Weights*funcion(t))\n",
    "    numero_errores = (Integral/resultado_integral)\n",
    "    e = np.append(numero_errores)\n",
    "    cantidad_de_error.extend(e)\n",
    "    "
   ]
  },
  {
   "cell_type": "code",
   "execution_count": 98,
   "id": "f7dcc06a",
   "metadata": {},
   "outputs": [
    {
     "data": {
      "text/plain": [
       "[<matplotlib.lines.Line2D at 0x1f587def1c0>,\n",
       " <matplotlib.lines.Line2D at 0x1f587def280>,\n",
       " <matplotlib.lines.Line2D at 0x1f587def2e0>,\n",
       " <matplotlib.lines.Line2D at 0x1f587def4c0>,\n",
       " <matplotlib.lines.Line2D at 0x1f587def520>,\n",
       " <matplotlib.lines.Line2D at 0x1f587def700>,\n",
       " <matplotlib.lines.Line2D at 0x1f587def760>,\n",
       " <matplotlib.lines.Line2D at 0x1f587defc70>,\n",
       " <matplotlib.lines.Line2D at 0x1f587defca0>]"
      ]
     },
     "execution_count": 98,
     "metadata": {},
     "output_type": "execute_result"
    },
    {
     "data": {
      "image/png": "[encoded data removed]",
      "text/plain": [
       "<Figure size 432x432 with 1 Axes>"
      ]
     },
     "metadata": {
      "needs_background": "light"
     },
     "output_type": "display_data"
    }
   ],
   "source": [
    "plt.figure(figsize=(6,6))\n",
    "plt.plot(valores,cantidad_de_error)"
   ]
  },
  {
   "cell_type": "code",
   "execution_count": null,
   "id": "37aa0eba",
   "metadata": {},
   "outputs": [],
   "source": []
  }
 ],
 "metadata": {
  "kernelspec": {
   "display_name": "Python 3 (ipykernel)",
   "language": "python",
   "name": "python3"
  },
  "language_info": {
   "codemirror_mode": {
    "name": "ipython",
    "version": 3
   },
   "file_extension": ".py",
   "mimetype": "text/x-python",
   "name": "python",
   "nbconvert_exporter": "python",
   "pygments_lexer": "ipython3",
   "version": "3.9.12"
  }
 },
 "nbformat": 4,
 "nbformat_minor": 5
}
