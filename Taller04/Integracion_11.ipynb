{
 "cells": [
  {
   "cell_type": "code",
   "execution_count": 1,
   "id": "afcc73db",
   "metadata": {},
   "outputs": [],
   "source": [
    "\n",
    "import numpy as np\n",
    "import matplotlib.pyplot as plt\n",
    "from scipy import integrate\n"
   ]
  },
  {
   "cell_type": "markdown",
   "id": "ef54e3df",
   "metadata": {},
   "source": [
    "## Punto 11\n",
    "\n",
    "Resolver la integral usando la regla de Simpson  \n",
    "$$\\frac{3}{8}$$\n"
   ]
  },
  {
   "cell_type": "code",
   "execution_count": 2,
   "id": "e486aa48",
   "metadata": {},
   "outputs": [],
   "source": [
    "# Definir la función\n",
    "\n",
    "def f(x):    \n",
    "    return np.sqrt(  1 + ( np.exp( -(x**2) ) ) )\n"
   ]
  },
  {
   "cell_type": "code",
   "execution_count": 3,
   "id": "6f4fbb08",
   "metadata": {},
   "outputs": [],
   "source": [
    "# Limites de la integral y puntos\n",
    "\n",
    "a = -1\n",
    "b = 1\n",
    "h = 99999\n"
   ]
  },
  {
   "cell_type": "code",
   "execution_count": 4,
   "id": "7155cef3",
   "metadata": {},
   "outputs": [],
   "source": [
    "\n",
    "def Calcular_Integral( limitea , limiteb , h ):\n",
    "    \n",
    "    suma = f( limitea ) + f( limiteb )\n",
    "    size = ( ( limiteb - limitea ) / h )\n",
    "    \n",
    "    for i in range( 1 , h ):\n",
    "        if ( i % 3 == 0 ):\n",
    "            suma = suma + 2 * f( limitea + i * size )\n",
    "        else:\n",
    "            suma = suma + 3 * f( limitea + i * size )\n",
    "            \n",
    "    return ( 3 / 8 ) * ( size )  * ( suma )\n"
   ]
  },
  {
   "cell_type": "code",
   "execution_count": 5,
   "id": "b5b74282",
   "metadata": {},
   "outputs": [
    {
     "name": "stdout",
     "output_type": "stream",
     "text": [
      "El resultado de la integral usando el método de Simpson simple es: 2.63885711690821\n"
     ]
    }
   ],
   "source": [
    "\n",
    "Resultado_Integral = Calcular_Integral( a , b , h )\n",
    "\n",
    "print(f'El resultado de la integral usando el método de Simpson simple es: {Resultado_Integral}')\n"
   ]
  }
 ],
 "metadata": {
  "kernelspec": {
   "display_name": "Python 3 (ipykernel)",
   "language": "python",
   "name": "python3"
  },
  "language_info": {
   "codemirror_mode": {
    "name": "ipython",
    "version": 3
   },
   "file_extension": ".py",
   "mimetype": "text/x-python",
   "name": "python",
   "nbconvert_exporter": "python",
   "pygments_lexer": "ipython3",
   "version": "3.9.12"
  }
 },
 "nbformat": 4,
 "nbformat_minor": 5
}
