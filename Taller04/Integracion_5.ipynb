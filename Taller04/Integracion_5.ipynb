{
 "cells": [
  {
   "cell_type": "code",
   "execution_count": 1,
   "id": "54da1174",
   "metadata": {},
   "outputs": [],
   "source": [
    "\n",
    "import numpy as np\n",
    "import matplotlib.pyplot as plt\n",
    "from scipy import integrate\n"
   ]
  },
  {
   "cell_type": "markdown",
   "id": "c2f77789",
   "metadata": {},
   "source": [
    "## Punto 5\n",
    "\n",
    "Resolver la integral con el método del trapecio\n"
   ]
  },
  {
   "cell_type": "code",
   "execution_count": 2,
   "id": "db9fba41",
   "metadata": {},
   "outputs": [],
   "source": [
    "\n",
    "class Integrator:\n",
    "    \n",
    "    def __init__(self, x,y):\n",
    "        \n",
    "        self.x = x\n",
    "        self.y = y\n",
    "        self.h = self.x[1] - self.x[0]\n",
    "        \n",
    "        self.integral = 0.\n",
    "        \n",
    "    def Trapecio(self):\n",
    "        \n",
    "        self.integral = 0.\n",
    "        \n",
    "        self.integral += 0.5*(self.y[0] + self.y[-1])\n",
    "        \n",
    "        self.integral += np.sum( self.y[1:-1] )\n",
    "        \n",
    "        return self.integral*self.h\n",
    "    \n",
    "    def Obtener_Error_Trapecio(self,f):\n",
    "        \n",
    "        d = (f( self.x + self.h ) - 2*f(self.x) + f( self.x - self.h))/self.h**2 \n",
    "             \n",
    "        max_ = np.max(np.abs(d))\n",
    "        \n",
    "        self.error = (max_* (self.x[-1]-self.x[0])**3 )/(12*(len(self.x)-1)**2)\n",
    "        \n",
    "        return self.error\n"
   ]
  },
  {
   "cell_type": "code",
   "execution_count": 3,
   "id": "75d46c62",
   "metadata": {},
   "outputs": [],
   "source": [
    "\n",
    "f = lambda x: np.exp(-(x**2))\n"
   ]
  },
  {
   "cell_type": "code",
   "execution_count": 4,
   "id": "92a3abae",
   "metadata": {},
   "outputs": [
    {
     "name": "stdout",
     "output_type": "stream",
     "text": [
      "El error es: 1.6633374966268377e-07 \n",
      "El resultado de la integral es: 0.74682\n",
      "El numero de puntos es: 1001\n",
      "El valor teorico de la integral es: 0.74682\n"
     ]
    }
   ],
   "source": [
    "\n",
    "n = 1000\n",
    "error = 1\n",
    "\n",
    "while error > 0.005:\n",
    "    n += 1\n",
    "    x = np.linspace( 0 , 1 , n+1 )\n",
    "    y = f(x)\n",
    "    \n",
    "    resultado_i = Integrator(x,y)\n",
    "    resultado_final = resultado_i.Trapecio()\n",
    "    error1 = resultado_i.Obtener_Error_Trapecio(f)\n",
    "    error = error1\n",
    "\n",
    "print( f\"El error es: {error} \" )\n",
    "print( f\"El resultado de la integral es: {round(resultado_final,5)}\" )\n",
    "print( f\"El numero de puntos es: {n}\" )\n",
    "print( \"El valor teorico de la integral es: \" + str(0.74682) )\n"
   ]
  },
  {
   "cell_type": "code",
   "execution_count": 5,
   "id": "ed7bf8cf",
   "metadata": {},
   "outputs": [
    {
     "data": {
      "image/png": "[encoded data removed]",
      "text/plain": [
       "<Figure size 432x288 with 1 Axes>"
      ]
     },
     "metadata": {
      "needs_background": "light"
     },
     "output_type": "display_data"
    }
   ],
   "source": [
    "\n",
    "plt.plot(x,y,color='blue')\n",
    "plt.show()\n"
   ]
  }
 ],
 "metadata": {
  "kernelspec": {
   "display_name": "Python 3 (ipykernel)",
   "language": "python",
   "name": "python3"
  },
  "language_info": {
   "codemirror_mode": {
    "name": "ipython",
    "version": 3
   },
   "file_extension": ".py",
   "mimetype": "text/x-python",
   "name": "python",
   "nbconvert_exporter": "python",
   "pygments_lexer": "ipython3",
   "version": "3.9.12"
  }
 },
 "nbformat": 4,
 "nbformat_minor": 5
}
