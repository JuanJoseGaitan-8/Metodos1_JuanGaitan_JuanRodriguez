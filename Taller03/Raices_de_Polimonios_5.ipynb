{
 "cells": [
  {
   "cell_type": "code",
   "execution_count": 1,
   "id": "8e464e95",
   "metadata": {},
   "outputs": [],
   "source": [
    "import numpy as np\n",
    "import matplotlib.pyplot as plt\n",
    "from matplotlib import rc\n",
    "import pandas as pd\n",
    "import sympy as sym\n",
    "import os.path as path\n",
    "from scipy import integrate"
   ]
  },
  {
   "cell_type": "markdown",
   "id": "5133fa38",
   "metadata": {},
   "source": [
    "## 5)\n",
    "Raíces reales de los primero 20 polinomios de Laguerre"
   ]
  },
  {
   "cell_type": "code",
   "execution_count": 26,
   "id": "3b854e38",
   "metadata": {},
   "outputs": [],
   "source": [
    "\n",
    "def Obtener_Newton(f,df,xn,itmax = 100000, precision=1e-6):\n",
    "    \n",
    "    error = 1.\n",
    "    it = 0\n",
    "    \n",
    "    while error > precision and it < itmax:\n",
    "        \n",
    "        try:\n",
    "            \n",
    "            xn1 = xn - f(xn)/df(xn)\n",
    "            error = np.abs(f(xn)/df(xn))\n",
    "        \n",
    "        except ZeroDivisionError:\n",
    "            print(\"zero division\")\n",
    "            \n",
    "        xn  = xn1\n",
    "        it += 1\n",
    "    \n",
    "    if it == itmax:\n",
    "        return False\n",
    "    else:\n",
    "        return xn\n",
    "    "
   ]
  },
  {
   "cell_type": "code",
   "execution_count": 27,
   "id": "ed10747a",
   "metadata": {},
   "outputs": [],
   "source": [
    "\n",
    "def Obtener_Raices(f,df,x, tolerancia=9):\n",
    "    \n",
    "    raices = np.array([])\n",
    "    \n",
    "    for i in x:\n",
    "        \n",
    "        raiz = Obtener_Newton(f,df,i)\n",
    "          \n",
    "        if raiz != False:\n",
    "            \n",
    "            croot = np.round( raiz, tolerancia ) \n",
    "            \n",
    "            if croot not in raices:\n",
    "                raices = np.append( raices, croot )\n",
    "                \n",
    "    raices.sort()\n",
    "    \n",
    "    return raices\n"
   ]
  },
  {
   "cell_type": "code",
   "execution_count": 28,
   "id": "d06f7c22",
   "metadata": {},
   "outputs": [],
   "source": [
    "\n",
    "def Obtener_Laguerre(n):\n",
    "    \n",
    "    x = sym.Symbol('x',Real=True)\n",
    "    y = sym.Symbol('y',Real=True)\n",
    "    \n",
    "    y = sym.exp(-x)*x**n\n",
    "    \n",
    "    p = sym.exp(x)*sym.diff(y,x,n)/(np.math.factorial(n))\n",
    "        \n",
    "    return p\n"
   ]
  },
  {
   "cell_type": "code",
   "execution_count": 29,
   "id": "1d522fea",
   "metadata": {},
   "outputs": [],
   "source": [
    "\n",
    "Laguerre = []\n",
    "DerLaguerre = []\n",
    "\n",
    "x = sym.Symbol('x',Real=True)\n",
    "n=20\n",
    "\n",
    "for i in range(n+1):\n",
    "    \n",
    "    poly = Obtener_Laguerre(i)\n",
    "        \n",
    "    Laguerre.append(poly)\n",
    "    DerLaguerre.append(sym.diff(poly,x,1))\n",
    "    "
   ]
  },
  {
   "cell_type": "code",
   "execution_count": 30,
   "id": "1f997938",
   "metadata": {},
   "outputs": [],
   "source": [
    "\n",
    "def Obtener_Raices_Polinomio(n,xi,poly,dpoly):\n",
    "    \n",
    "    x = sym.Symbol('x',Real=True)\n",
    "    \n",
    "    pn = sym.lambdify([x],poly[n],'numpy')\n",
    "    dpn = sym.lambdify([x],dpoly[n],'numpy')\n",
    "    raices = Obtener_Raices(pn,dpn,xi,tolerancia=8)\n",
    "    \n",
    "    return raices\n"
   ]
  },
  {
   "cell_type": "code",
   "execution_count": 31,
   "id": "6ec683be",
   "metadata": {},
   "outputs": [],
   "source": [
    "\n",
    "v=100\n",
    "xi = np.linspace(0,v,100)  \n",
    "\n",
    "Roots = Obtener_Raices_Polinomio(n,xi,Laguerre,DerLaguerre)\n"
   ]
  },
  {
   "cell_type": "code",
   "execution_count": 32,
   "id": "bbf1027d",
   "metadata": {},
   "outputs": [
    {
     "name": "stdout",
     "output_type": "stream",
     "text": [
      "La raices reales de los primeros 20 polinomios de Legrende son: \n",
      "[ 0.07053989  0.9165821   1.70730653  2.74919926  4.04892531  5.61517497\n",
      "  7.45901745  9.59439287 12.03880254 12.03880255 14.81429344 14.81429345\n",
      " 17.94889549 17.9488955  17.94889554 21.47878813 21.47878829 21.47878831\n",
      " 21.47878833 25.45170281 25.45170284 29.93255454 29.93255459 29.93255464\n",
      " 29.93255472 35.0134342  35.01343421 35.01343422 35.01343424 35.01343425\n",
      " 40.83305703 40.83305704 40.83305707 40.83305708 40.8330571  47.61999402\n",
      " 47.61999403 47.61999404 47.61999405 47.61999406 47.61999407 55.81079575\n",
      " 55.81079576 66.52441652 66.52441653]\n"
     ]
    }
   ],
   "source": [
    "\n",
    "print('La raices reales de los primeros 20 polinomios de Laguerre son: ')\n",
    "print(Roots)\n"
   ]
  }
 ],
 "metadata": {
  "kernelspec": {
   "display_name": "Python 3 (ipykernel)",
   "language": "python",
   "name": "python3"
  },
  "language_info": {
   "codemirror_mode": {
    "name": "ipython",
    "version": 3
   },
   "file_extension": ".py",
   "mimetype": "text/x-python",
   "name": "python",
   "nbconvert_exporter": "python",
   "pygments_lexer": "ipython3",
   "version": "3.9.12"
  }
 },
 "nbformat": 4,
 "nbformat_minor": 5
}
