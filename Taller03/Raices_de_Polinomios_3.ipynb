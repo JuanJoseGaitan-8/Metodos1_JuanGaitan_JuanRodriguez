{
 "cells": [
  {
   "cell_type": "code",
   "execution_count": 96,
   "id": "f1b03564",
   "metadata": {},
   "outputs": [],
   "source": [
    "import numpy as np\n",
    "import matplotlib.pyplot as plt\n",
    "from matplotlib import rc\n",
    "import pandas as pd\n",
    "import sympy as sym\n",
    "from scipy import integrate\n",
    "from scipy.signal import argrelextrema"
   ]
  },
  {
   "cell_type": "markdown",
   "id": "1c4b03f3",
   "metadata": {},
   "source": [
    "## 3)\n",
    "Raíces reales de: $$  f(x) = 3x^5 + 5x^4 - x^3$$"
   ]
  },
  {
   "cell_type": "code",
   "execution_count": 97,
   "id": "85e7ae34",
   "metadata": {},
   "outputs": [],
   "source": [
    "# Función\n",
    "\n",
    "def f(x):\n",
    "    return (3*(x**5)) + (5*(x**4)) - (x**3)\n"
   ]
  },
  {
   "cell_type": "code",
   "execution_count": 98,
   "id": "4cfb2950",
   "metadata": {},
   "outputs": [],
   "source": [
    "# Derivada\n",
    "\n",
    "def df(x):\n",
    "    return (15*(x**4)) + (20*(x**3)) - (3*(x**2))\n"
   ]
  },
  {
   "cell_type": "code",
   "execution_count": 196,
   "id": "809391f0",
   "metadata": {},
   "outputs": [],
   "source": [
    "# Newton\n",
    "\n",
    "def newton_raphson(f,x1):\n",
    "    x0 = x1 - ( f(x1) / df(x1) )\n",
    "    x1 = x0\n",
    "    return x1\n"
   ]
  },
  {
   "cell_type": "code",
   "execution_count": 197,
   "id": "f109662d",
   "metadata": {},
   "outputs": [],
   "source": [
    "\n",
    "tolerancia = 4\n",
    "x = np.arange(-2,1,0.001)\n"
   ]
  },
  {
   "cell_type": "code",
   "execution_count": 204,
   "id": "e5135417",
   "metadata": {},
   "outputs": [
    {
     "name": "stdout",
     "output_type": "stream",
     "text": [
      "La lista de raices del polinomio: [array([-1.8471, -0.    ,  0.1805])]\n"
     ]
    }
   ],
   "source": [
    "\n",
    "for n in range(1):\n",
    "    \n",
    "    listaraices=[]\n",
    "    y = f(x)\n",
    "    y_abs = np.abs(y)\n",
    "    #Uso de argrelextrema\n",
    "    minimos = x[argrelextrema(y_abs, np.less)]\n",
    "    \n",
    "    for i in range(len(minimos)):\n",
    "        minimos[i]=newton_raphson(f,minimos[i])\n",
    "        \n",
    "    listaraices.append(np.round(minimos,tolerancia))\n",
    "    \n",
    "print(f'La lista de raices del polinomio: {listaraices}')\n"
   ]
  }
 ],
 "metadata": {
  "kernelspec": {
   "display_name": "Python 3 (ipykernel)",
   "language": "python",
   "name": "python3"
  },
  "language_info": {
   "codemirror_mode": {
    "name": "ipython",
    "version": 3
   },
   "file_extension": ".py",
   "mimetype": "text/x-python",
   "name": "python",
   "nbconvert_exporter": "python",
   "pygments_lexer": "ipython3",
   "version": "3.9.12"
  }
 },
 "nbformat": 4,
 "nbformat_minor": 5
}
