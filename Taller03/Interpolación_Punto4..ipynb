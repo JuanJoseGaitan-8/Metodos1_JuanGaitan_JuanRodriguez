{
 "cells": [
  {
   "cell_type": "code",
   "execution_count": 1,
   "id": "81c2607f",
   "metadata": {},
   "outputs": [],
   "source": [
    "import numpy as np\n",
    "import matplotlib.pyplot as plt\n",
    "from matplotlib import rc\n",
    "import pandas as pd\n",
    "import sympy as sym\n",
    "import os.path as path\n",
    "import wget"
   ]
  },
  {
   "cell_type": "code",
   "execution_count": 74,
   "id": "137cce5d",
   "metadata": {},
   "outputs": [
    {
     "name": "stdout",
     "output_type": "stream",
     "text": [
      "100% [....................................................................................] 73 / 73"
     ]
    }
   ],
   "source": [
    "file = 'Punto4.csv'\n",
    "url = 'https://raw.githubusercontent.com/asegura4488/Database/main/MetodosComputacionalesReforma/Parabolico.csv'\n",
    "if not path.exists(file):\n",
    "    Path_ = wget.download(url,file)\n",
    "else:\n",
    "    print('--File found---')\n",
    "    Path_ = file"
   ]
  },
  {
   "cell_type": "code",
   "execution_count": 75,
   "id": "a12bf1dc",
   "metadata": {},
   "outputs": [],
   "source": [
    "Data = pd.read_csv(Path_,sep=',')"
   ]
  },
  {
   "cell_type": "code",
   "execution_count": 76,
   "id": "e03c3f30",
   "metadata": {},
   "outputs": [
    {
     "data": {
      "text/html": [
       "<div>\n",
       "<style scoped>\n",
       "    .dataframe tbody tr th:only-of-type {\n",
       "        vertical-align: middle;\n",
       "    }\n",
       "\n",
       "    .dataframe tbody tr th {\n",
       "        vertical-align: top;\n",
       "    }\n",
       "\n",
       "    .dataframe thead th {\n",
       "        text-align: right;\n",
       "    }\n",
       "</style>\n",
       "<table border=\"1\" class=\"dataframe\">\n",
       "  <thead>\n",
       "    <tr style=\"text-align: right;\">\n",
       "      <th></th>\n",
       "      <th>X</th>\n",
       "      <th>Y</th>\n",
       "    </tr>\n",
       "  </thead>\n",
       "  <tbody>\n",
       "    <tr>\n",
       "      <th>0</th>\n",
       "      <td>1.4</td>\n",
       "      <td>0.400795</td>\n",
       "    </tr>\n",
       "    <tr>\n",
       "      <th>1</th>\n",
       "      <td>3.5</td>\n",
       "      <td>0.594128</td>\n",
       "    </tr>\n",
       "    <tr>\n",
       "      <th>2</th>\n",
       "      <td>5.6</td>\n",
       "      <td>0.298028</td>\n",
       "    </tr>\n",
       "  </tbody>\n",
       "</table>\n",
       "</div>"
      ],
      "text/plain": [
       "     X         Y\n",
       "0  1.4  0.400795\n",
       "1  3.5  0.594128\n",
       "2  5.6  0.298028"
      ]
     },
     "execution_count": 76,
     "metadata": {},
     "output_type": "execute_result"
    }
   ],
   "source": [
    "Data"
   ]
  },
  {
   "cell_type": "code",
   "execution_count": 78,
   "id": "659235f0",
   "metadata": {},
   "outputs": [],
   "source": [
    "#X = np.array([1.4,3.5,5.6])\n",
    "#Y = np.array([0.400795,0.594128,0.298028])\n",
    "X = np.float64(Data['X'])\n",
    "Y = np.float64(Data['Y'])"
   ]
  },
  {
   "cell_type": "code",
   "execution_count": 79,
   "id": "6eb619ae",
   "metadata": {},
   "outputs": [],
   "source": [
    "def Lagrange(x,xi,j):\n",
    "    \n",
    "    prod = 1.0\n",
    "    n = len(xi)\n",
    "    \n",
    "    for i in range(n):\n",
    "        if i != j:\n",
    "            prod *= (x - xi[i])/(xi[j]-xi[i])\n",
    "            \n",
    "    return prod"
   ]
  },
  {
   "cell_type": "code",
   "execution_count": 80,
   "id": "add44db6",
   "metadata": {},
   "outputs": [],
   "source": [
    "def Poly(x,xi,yi):\n",
    "    \n",
    "    Sum = 0.\n",
    "    n = len(xi)\n",
    "        \n",
    "    for j in range(n):\n",
    "        Sum += yi[j]*Lagrange(x,xi,j)\n",
    "        \n",
    "    return Sum"
   ]
  },
  {
   "cell_type": "code",
   "execution_count": 81,
   "id": "af2eb915",
   "metadata": {},
   "outputs": [],
   "source": [
    "x = np.linspace(0,5.6,100)\n",
    "y = Poly(x,X,Y)"
   ]
  },
  {
   "cell_type": "code",
   "execution_count": 82,
   "id": "4a674fa1",
   "metadata": {},
   "outputs": [
    {
     "data": {
      "text/plain": [
       "[<matplotlib.lines.Line2D at 0x25bf28ebca0>]"
      ]
     },
     "execution_count": 82,
     "metadata": {},
     "output_type": "execute_result"
    },
    {
     "data": {
      "image/png": "[encoded data removed]",
      "text/plain": [
       "<Figure size 432x288 with 1 Axes>"
      ]
     },
     "metadata": {
      "needs_background": "light"
     },
     "output_type": "display_data"
    }
   ],
   "source": [
    "plt.scatter(X,Y,color='r')\n",
    "plt.plot(x,y,color='k')"
   ]
  },
  {
   "cell_type": "code",
   "execution_count": 83,
   "id": "bf525e23",
   "metadata": {},
   "outputs": [],
   "source": [
    "x = sym.Symbol('x')\n",
    "f = Poly(x,X,Y)"
   ]
  },
  {
   "cell_type": "code",
   "execution_count": 84,
   "id": "f3008948",
   "metadata": {},
   "outputs": [
    {
     "data": {
      "text/latex": [
       "$\\displaystyle 0.400795493181974 \\cdot \\left(1.33333333333333 - 0.238095238095238 x\\right) \\left(1.66666666666667 - 0.476190476190476 x\\right) + 0.594128102489774 \\cdot \\left(2.66666666666667 - 0.476190476190476 x\\right) \\left(0.476190476190476 x - 0.666666666666667\\right) + 0.298027955239382 \\cdot \\left(0.238095238095238 x - 0.333333333333333\\right) \\left(0.476190476190476 x - 1.66666666666667\\right)$"
      ],
      "text/plain": [
       "0.400795493181974*(1.33333333333333 - 0.238095238095238*x)*(1.66666666666667 - 0.476190476190476*x) + 0.594128102489774*(2.66666666666667 - 0.476190476190476*x)*(0.476190476190476*x - 0.666666666666667) + 0.298027955239382*(0.238095238095238*x - 0.333333333333333)*(0.476190476190476*x - 1.66666666666667)"
      ]
     },
     "execution_count": 84,
     "metadata": {},
     "output_type": "execute_result"
    }
   ],
   "source": [
    "f"
   ]
  },
  {
   "cell_type": "code",
   "execution_count": 85,
   "id": "5a43f913",
   "metadata": {},
   "outputs": [
    {
     "data": {
      "text/latex": [
       "$\\displaystyle - 0.0554912422401579 x^{2} + 0.363970234266202 x + 2.77555756156289 \\cdot 10^{-17}$"
      ],
      "text/plain": [
       "-0.0554912422401579*x**2 + 0.363970234266202*x + 2.77555756156289e-17"
      ]
     },
     "execution_count": 85,
     "metadata": {},
     "output_type": "execute_result"
    }
   ],
   "source": [
    "f = f = sym.expand(f)\n",
    "f"
   ]
  },
  {
   "cell_type": "markdown",
   "id": "9524296c",
   "metadata": {},
   "source": [
    "\n",
    "$$ tan \\Theta = 0.363970234266202$$\n",
    "\n"
   ]
  },
  {
   "cell_type": "code",
   "execution_count": 86,
   "id": "6c806df0",
   "metadata": {},
   "outputs": [
    {
     "data": {
      "text/plain": [
       "0.3490658503988656"
      ]
     },
     "execution_count": 86,
     "metadata": {},
     "output_type": "execute_result"
    }
   ],
   "source": [
    "theta = np.arctan(0.363970234266202)\n",
    "theta"
   ]
  },
  {
   "cell_type": "code",
   "execution_count": 87,
   "id": "c82864af",
   "metadata": {},
   "outputs": [],
   "source": [
    "valor = np.degrees(theta)"
   ]
  },
  {
   "cell_type": "code",
   "execution_count": 88,
   "id": "d9595b02",
   "metadata": {},
   "outputs": [
    {
     "data": {
      "text/plain": [
       "20.0"
      ]
     },
     "execution_count": 88,
     "metadata": {},
     "output_type": "execute_result"
    }
   ],
   "source": [
    "angulo_redondeado = np.round(valor)\n",
    "angulo_redondeado"
   ]
  },
  {
   "cell_type": "markdown",
   "id": "1c796b2a",
   "metadata": {},
   "source": [
    "$$ \\frac{1}{2}* \\frac{g}{(V0x)^2} = −0.0554912422401579$$\n",
    "\n",
    "$$ *Entonces* $$\n",
    "\n",
    "$$ V0x = \\sqrt{\\frac{1}{2}* \\frac{g}{0.0554912422401579}} $$"
   ]
  },
  {
   "cell_type": "code",
   "execution_count": 89,
   "id": "b6feeebb",
   "metadata": {},
   "outputs": [
    {
     "data": {
      "text/plain": [
       "9.401719335540246"
      ]
     },
     "execution_count": 89,
     "metadata": {},
     "output_type": "execute_result"
    }
   ],
   "source": [
    "g = 9.81\n",
    "\n",
    "decimal = 0.0554912422401579\n",
    "\n",
    "V0x = np.sqrt(g/(2*decimal))\n",
    "\n",
    "V0x"
   ]
  },
  {
   "cell_type": "markdown",
   "id": "1c1d27f0",
   "metadata": {},
   "source": [
    "$$ V0x = V0*cos\\Theta $$\n",
    "\n",
    "$$ *Entonces* $$\n",
    "\n",
    "$$V0 = \\frac{V0x}{cos\\Theta} $$"
   ]
  },
  {
   "cell_type": "code",
   "execution_count": 90,
   "id": "fc071559",
   "metadata": {},
   "outputs": [
    {
     "data": {
      "text/plain": [
       "10.00510073993893"
      ]
     },
     "execution_count": 90,
     "metadata": {},
     "output_type": "execute_result"
    }
   ],
   "source": [
    "V0 = (V0x/np.cos(theta))\n",
    "V0\n"
   ]
  },
  {
   "cell_type": "code",
   "execution_count": 91,
   "id": "c6420043",
   "metadata": {},
   "outputs": [
    {
     "data": {
      "text/plain": [
       "10.0"
      ]
     },
     "execution_count": 91,
     "metadata": {},
     "output_type": "execute_result"
    }
   ],
   "source": [
    "velocidad_redondeada = np.round(V0)\n",
    "velocidad_redondeada"
   ]
  },
  {
   "cell_type": "code",
   "execution_count": 92,
   "id": "42c39760",
   "metadata": {},
   "outputs": [
    {
     "name": "stdout",
     "output_type": "stream",
     "text": [
      "La velocidad inicial de la bala es:  10.0 m/s.Con un angulo de inclinación de: 20.0 °\n"
     ]
    }
   ],
   "source": [
    "#Respuesta\n",
    "print(\"La velocidad inicial de la bala es: \", velocidad_redondeada,\"m/s.\" \"Con un angulo de inclinación de:\" , angulo_redondeado, \"°\")"
   ]
  },
  {
   "cell_type": "code",
   "execution_count": null,
   "id": "359d1f80",
   "metadata": {},
   "outputs": [],
   "source": []
  }
 ],
 "metadata": {
  "kernelspec": {
   "display_name": "Python 3 (ipykernel)",
   "language": "python",
   "name": "python3"
  },
  "language_info": {
   "codemirror_mode": {
    "name": "ipython",
    "version": 3
   },
   "file_extension": ".py",
   "mimetype": "text/x-python",
   "name": "python",
   "nbconvert_exporter": "python",
   "pygments_lexer": "ipython3",
   "version": "3.9.12"
  }
 },
 "nbformat": 4,
 "nbformat_minor": 5
}
