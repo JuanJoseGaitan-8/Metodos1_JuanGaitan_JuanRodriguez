{
 "cells": [
  {
   "cell_type": "code",
   "execution_count": 69,
   "id": "8e464e95",
   "metadata": {},
   "outputs": [],
   "source": [
    "import numpy as np\n",
    "import matplotlib.pyplot as plt\n",
    "from matplotlib import rc\n",
    "import pandas as pd\n",
    "import sympy as sym\n",
    "import os.path as path\n",
    "from scipy import integrate"
   ]
  },
  {
   "cell_type": "markdown",
   "id": "5133fa38",
   "metadata": {},
   "source": [
    "## 4)\n",
    "Raíces reales de los primero 20 polinomios de Legendre"
   ]
  },
  {
   "cell_type": "code",
   "execution_count": 81,
   "id": "3b854e38",
   "metadata": {},
   "outputs": [],
   "source": [
    "\n",
    "def Obtener_Newton(f,df,xn,itmax = 100000, precision=1e-12):\n",
    "    \n",
    "    error = 1.\n",
    "    it = 0\n",
    "    \n",
    "    while error > precision and it < itmax:\n",
    "        \n",
    "        try:\n",
    "            \n",
    "            xn1 = xn - f(xn)/df(xn)\n",
    "            error = np.abs(f(xn)/df(xn))\n",
    "        \n",
    "        except ZeroDivisionError:\n",
    "            print(\"zero division\")\n",
    "            \n",
    "        xn  = xn1\n",
    "        it += 1\n",
    "    \n",
    "    if it == itmax:\n",
    "        return False\n",
    "    else:\n",
    "        return xn\n",
    "    "
   ]
  },
  {
   "cell_type": "code",
   "execution_count": 83,
   "id": "ed10747a",
   "metadata": {},
   "outputs": [],
   "source": [
    "\n",
    "def Obtener_Raices(f,df,x, tolerancia=9):\n",
    "    \n",
    "    raices = np.array([])\n",
    "    \n",
    "    for i in x:\n",
    "        \n",
    "        raiz = Obtener_Newton(f,df,i)\n",
    "          \n",
    "        if raiz != False:\n",
    "            \n",
    "            croot = np.round( raiz, tolerancia ) \n",
    "            \n",
    "            if croot not in raices:\n",
    "                raices = np.append( raices, croot )\n",
    "                \n",
    "    raices.sort()\n",
    "    \n",
    "    return raices\n"
   ]
  },
  {
   "cell_type": "code",
   "execution_count": 84,
   "id": "d06f7c22",
   "metadata": {},
   "outputs": [],
   "source": [
    "\n",
    "def Obtener_Legendre(n):\n",
    "    \n",
    "    x = sym.Symbol('x',Real=True)\n",
    "    y = sym.Symbol('y',Real=True)\n",
    "    \n",
    "    y = (x**2 - 1)**n\n",
    "    \n",
    "    p = sym.diff(y,x,n)/(2**n * np.math.factorial(n))\n",
    "    \n",
    "    return p\n"
   ]
  },
  {
   "cell_type": "code",
   "execution_count": 85,
   "id": "1d522fea",
   "metadata": {},
   "outputs": [],
   "source": [
    "\n",
    "Legendre = []\n",
    "DerLegendre = []\n",
    "\n",
    "x = sym.Symbol('x',Real=True)\n",
    "n=20\n",
    "\n",
    "for i in range(n+1):\n",
    "    \n",
    "    poly = Obtener_Legendre(i)\n",
    "    \n",
    "    Legendre.append(poly)\n",
    "    DerLegendre.append(sym.diff(poly,x,1))\n",
    "    "
   ]
  },
  {
   "cell_type": "code",
   "execution_count": 86,
   "id": "1f997938",
   "metadata": {},
   "outputs": [],
   "source": [
    "\n",
    "def Obtener_Raices_Polinomio(n,xi,poly,dpoly):\n",
    "    \n",
    "    x = sym.Symbol('x',Real=True)\n",
    "    \n",
    "    pn = sym.lambdify([x],poly[n],'numpy')\n",
    "    dpn = sym.lambdify([x],dpoly[n],'numpy')\n",
    "    raices = Obtener_Raices(pn,dpn,xi,tolerancia=8)\n",
    "    \n",
    "    return raices\n"
   ]
  },
  {
   "cell_type": "code",
   "execution_count": 87,
   "id": "6ec683be",
   "metadata": {},
   "outputs": [],
   "source": [
    "\n",
    "xi = np.arange(-1,1,0.01)  \n",
    "n = 20\n",
    "Roots = Obtener_Raices_Polinomio(n,xi,Legendre,DerLegendre)\n"
   ]
  },
  {
   "cell_type": "code",
   "execution_count": 88,
   "id": "bbf1027d",
   "metadata": {},
   "outputs": [
    {
     "name": "stdout",
     "output_type": "stream",
     "text": [
      "La raices reales de los primeros 20 polinomios de Legrende son: \n",
      "[-0.9931286  -0.96397193 -0.91223443 -0.83911697 -0.74633191 -0.63605368\n",
      " -0.510867   -0.37370609 -0.22778585 -0.07652652  0.07652652  0.22778585\n",
      "  0.37370609  0.510867    0.63605368  0.74633191  0.83911697  0.91223443\n",
      "  0.96397193  0.9931286 ]\n"
     ]
    }
   ],
   "source": [
    "\n",
    "print('La raices reales de los primeros 20 polinomios de Legrende son: ')\n",
    "print(Roots)\n"
   ]
  }
 ],
 "metadata": {
  "kernelspec": {
   "display_name": "Python 3 (ipykernel)",
   "language": "python",
   "name": "python3"
  },
  "language_info": {
   "codemirror_mode": {
    "name": "ipython",
    "version": 3
   },
   "file_extension": ".py",
   "mimetype": "text/x-python",
   "name": "python",
   "nbconvert_exporter": "python",
   "pygments_lexer": "ipython3",
   "version": "3.9.12"
  }
 },
 "nbformat": 4,
 "nbformat_minor": 5
}
