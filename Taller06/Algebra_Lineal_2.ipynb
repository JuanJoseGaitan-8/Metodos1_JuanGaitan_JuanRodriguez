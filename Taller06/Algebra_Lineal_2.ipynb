{
 "cells": [
  {
   "cell_type": "code",
   "execution_count": 1,
   "id": "90ae6dfd",
   "metadata": {},
   "outputs": [],
   "source": [
    "\n",
    "import numpy as np\n",
    "import matplotlib.pyplot as plt\n"
   ]
  },
  {
   "cell_type": "markdown",
   "id": "5d28fbdc",
   "metadata": {},
   "source": [
    "# Punto 2"
   ]
  },
  {
   "cell_type": "code",
   "execution_count": 2,
   "id": "ebad6601",
   "metadata": {},
   "outputs": [],
   "source": [
    "# Definición de la Clase Sistema Lineal\n",
    "\n",
    "class SistemaLineal:\n",
    "    \n",
    "    def __init__(self, M,b):\n",
    "        \n",
    "        self.M = M\n",
    "        self.b = b\n",
    "        \n",
    "    def Metodo_Jacobi(self, itmax=1000, error=1e-10):\n",
    "        \n",
    "        rows,col = M.shape\n",
    "        it = 0\n",
    "        \n",
    "        solution = np.zeros(col)\n",
    "        \n",
    "        sumatoria = np.zeros_like(solution)\n",
    "        \n",
    "        res = np.linalg.norm(b - np.dot(M,solution))\n",
    "        \n",
    "        while res > error and it < itmax:\n",
    "            \n",
    "            for i in range(rows):\n",
    "                \n",
    "                sum_ = 0\n",
    "                \n",
    "                for j in range(col):\n",
    "                    \n",
    "                    if i != j:\n",
    "                        sum_ += M[i][j]*solution[j]\n",
    "                        \n",
    "                sumatoria[i] = sum_\n",
    "                \n",
    "            for k in range(rows):\n",
    "                \n",
    "                if M[k][k] != 0:\n",
    "                    \n",
    "                    solution[k] = (b[k] - sumatoria[k])/M[k][k]\n",
    "                    \n",
    "                else:\n",
    "                    print('No se puede solucionar con el método de Jacobi')\n",
    "                    \n",
    "            res = np.linalg.norm( b - np.dot(M,solution) )\n",
    "            \n",
    "            it += 1\n",
    "        \n",
    "        return solution,it\n",
    "    \n",
    "    \n",
    "    def Metodo_Gauss_Seidel(self, itmax=1000, error=1e-10):\n",
    "        \n",
    "        rows,col = M.shape\n",
    "        it = 0\n",
    "        \n",
    "        solution = np.zeros(col)\n",
    "        \n",
    "        res = np.linalg.norm(b - np.dot(M,solution))\n",
    "        \n",
    "        while res > error and it < itmax:\n",
    "            \n",
    "            for i in range(rows):\n",
    "                \n",
    "                sum_ = 0\n",
    "                \n",
    "                for j in range(col):\n",
    "                    \n",
    "                    if i != j:\n",
    "                        sum_ += M[i][j]*solution[j]\n",
    "                        \n",
    "                solution[i] = (b[i] - sum_)/M[i][i] \n",
    "                \n",
    "            res = np.linalg.norm( b - np.dot(M,solution) )\n",
    "            \n",
    "            it += 1\n",
    "        \n",
    "        return solution,it"
   ]
  },
  {
   "cell_type": "code",
   "execution_count": 3,
   "id": "4279343d",
   "metadata": {},
   "outputs": [
    {
     "name": "stdout",
     "output_type": "stream",
     "text": [
      "[[ 3. -1. -1.]\n",
      " [-1.  3.  1.]\n",
      " [ 2.  1.  4.]]\n",
      "[1. 3. 7.]\n"
     ]
    }
   ],
   "source": [
    "# Matriz (Sistema de ecuaciones)\n",
    "\n",
    "M = np.array([[3,-1,-1],[-1.,3.,1.],[2,1,4]])\n",
    "print(M)\n",
    "b = np.array([1.,3.,7.])\n",
    "print(b)\n"
   ]
  },
  {
   "cell_type": "markdown",
   "id": "87a57e58",
   "metadata": {},
   "source": [
    "### Método de Jacobi"
   ]
  },
  {
   "cell_type": "code",
   "execution_count": 4,
   "id": "17ab4c6f",
   "metadata": {},
   "outputs": [
    {
     "name": "stdout",
     "output_type": "stream",
     "text": [
      "Solución al sistema de ecuaciones usando el método de Jacobi: [1. 1. 1.]\n",
      "Iteraciones realizadas: 23\n"
     ]
    }
   ],
   "source": [
    "\n",
    "jacobi_ans = SistemaLineal(M,b)\n",
    "Respuesta1 = jacobi_ans.Metodo_Jacobi()[0]\n",
    "Iteraciones1 = jacobi_ans.Metodo_Jacobi()[1]\n",
    "\n",
    "print(f'Solución al sistema de ecuaciones usando el método de Jacobi: {Respuesta1}')\n",
    "print(f'Iteraciones realizadas: {Iteraciones1}')\n",
    "\n"
   ]
  },
  {
   "cell_type": "markdown",
   "id": "8d0a035d",
   "metadata": {},
   "source": [
    "### Método de Gauss-Seidel"
   ]
  },
  {
   "cell_type": "code",
   "execution_count": 5,
   "id": "166e95ae",
   "metadata": {},
   "outputs": [
    {
     "name": "stdout",
     "output_type": "stream",
     "text": [
      "Solución al sistema de ecuaciones usando el método de Gauss-Seidel: [1. 1. 1.]\n",
      "Iteraciones realizadas: 18\n"
     ]
    }
   ],
   "source": [
    "\n",
    "gauss_sidel_ans = SistemaLineal(M,b)\n",
    "Respuesta2 = gauss_sidel_ans.Metodo_Gauss_Seidel()[0]\n",
    "Iteraciones2 = gauss_sidel_ans.Metodo_Gauss_Seidel()[1]\n",
    "\n",
    "print(f'Solución al sistema de ecuaciones usando el método de Gauss-Seidel: {Respuesta2}')\n",
    "print(f'Iteraciones realizadas: {Iteraciones2}')\n"
   ]
  }
 ],
 "metadata": {
  "kernelspec": {
   "display_name": "Python 3 (ipykernel)",
   "language": "python",
   "name": "python3"
  },
  "language_info": {
   "codemirror_mode": {
    "name": "ipython",
    "version": 3
   },
   "file_extension": ".py",
   "mimetype": "text/x-python",
   "name": "python",
   "nbconvert_exporter": "python",
   "pygments_lexer": "ipython3",
   "version": "3.9.12"
  }
 },
 "nbformat": 4,
 "nbformat_minor": 5
}
