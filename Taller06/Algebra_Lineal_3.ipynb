{
 "cells": [
  {
   "cell_type": "code",
   "execution_count": 1,
   "id": "6b7c6e0b",
   "metadata": {},
   "outputs": [],
   "source": [
    "\n",
    "import numpy as np\n",
    "import matplotlib.pyplot as plt\n"
   ]
  },
  {
   "cell_type": "markdown",
   "id": "9ae965c7",
   "metadata": {},
   "source": [
    "# Punto 3"
   ]
  },
  {
   "cell_type": "markdown",
   "id": "fc400bc5",
   "metadata": {},
   "source": [
    "$$ AB = \\begin{pmatrix}1 & 0 & 0 \\\\ 5 & 1 & 0 \\\\-2 & 3 & 1 \\\\\\end{pmatrix} \\cdot \\begin{pmatrix} 4 & -2 & 1\\\\ 0 & 3 & 7\\\\ 0&0&2\\\\ \\end{pmatrix} = \\begin{pmatrix}4&-2&1\\\\ 20&-7&12\\\\-8&13&21\\\\ \\end{pmatrix} $$\n",
    "$$ AB = \\begin{pmatrix}4&-2&1\\\\ 20&-7&12\\\\-8&13&21\\\\ \\end{pmatrix}$$"
   ]
  },
  {
   "cell_type": "code",
   "execution_count": 2,
   "id": "45545383",
   "metadata": {},
   "outputs": [],
   "source": [
    "# Definición de la función para multiplicar dos matrices\n",
    "\n",
    "def Obtener_multiplicacion_matrices(M1,M2):\n",
    "    \n",
    "    colM1 = len(M1[0])\n",
    "    rowsM1 = len(M1)\n",
    "    colM2 = len(M2[0])\n",
    "    rowsM2 = len(M2)\n",
    "    \n",
    "    if colM1 != rowsM2:\n",
    "        print('No se pueden multiplicar')\n",
    "        return None\n",
    "    \n",
    "    solution = np.zeros((rowsM1,colM2))\n",
    "    \n",
    "    for i in range(rowsM1):      \n",
    "        \n",
    "        for j in range(colM2):\n",
    "            \n",
    "            sum_ = 0\n",
    "            for a in range(rowsM1):\n",
    "                \n",
    "                sum_ += M1[i][a]*M2[a][j]\n",
    "                \n",
    "            solution[i][j] = sum_\n",
    "            \n",
    "    return solution\n"
   ]
  },
  {
   "cell_type": "code",
   "execution_count": 3,
   "id": "ac7aba4d",
   "metadata": {},
   "outputs": [
    {
     "name": "stdout",
     "output_type": "stream",
     "text": [
      "[[ 1  0  0]\n",
      " [ 5  1  0]\n",
      " [-2  3  1]]\n",
      "[[ 4 -2  1]\n",
      " [ 0  3  7]\n",
      " [ 0  0  2]]\n"
     ]
    }
   ],
   "source": [
    "# Definición de las matrices\n",
    "\n",
    "A = np.array(([1,0,0],[5,1,0],[-2,3,1]))\n",
    "B = np.array(([4,-2,1],[0,3,7],[0,0,2]))\n",
    "\n",
    "print(A)\n",
    "print(B)\n"
   ]
  },
  {
   "cell_type": "code",
   "execution_count": 4,
   "id": "479fd49a",
   "metadata": {},
   "outputs": [
    {
     "name": "stdout",
     "output_type": "stream",
     "text": [
      "[[ 4. -2.  1.]\n",
      " [20. -7. 12.]\n",
      " [-8. 13. 21.]]\n"
     ]
    }
   ],
   "source": [
    "\n",
    "respuesta = Obtener_multiplicacion_matrices(A,B)\n",
    "\n",
    "print(respuesta)\n"
   ]
  },
  {
   "cell_type": "markdown",
   "id": "04b81fa1",
   "metadata": {},
   "source": [
    "$$ AB = \\begin{pmatrix}4&-2&1\\\\ 20&-7&12\\\\-8&13&21\\\\ \\end{pmatrix}$$"
   ]
  }
 ],
 "metadata": {
  "kernelspec": {
   "display_name": "Python 3 (ipykernel)",
   "language": "python",
   "name": "python3"
  },
  "language_info": {
   "codemirror_mode": {
    "name": "ipython",
    "version": 3
   },
   "file_extension": ".py",
   "mimetype": "text/x-python",
   "name": "python",
   "nbconvert_exporter": "python",
   "pygments_lexer": "ipython3",
   "version": "3.9.12"
  }
 },
 "nbformat": 4,
 "nbformat_minor": 5
}
