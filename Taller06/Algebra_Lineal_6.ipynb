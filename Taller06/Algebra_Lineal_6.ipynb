{
 "cells": [
  {
   "cell_type": "code",
   "execution_count": 1,
   "id": "cd563aee",
   "metadata": {},
   "outputs": [],
   "source": [
    "\n",
    "import numpy as np\n",
    "import matplotlib.pyplot as plt\n"
   ]
  },
  {
   "cell_type": "markdown",
   "id": "6ce7dec1",
   "metadata": {},
   "source": [
    "# Punto 6"
   ]
  },
  {
   "cell_type": "code",
   "execution_count": 2,
   "id": "576c6dee",
   "metadata": {},
   "outputs": [],
   "source": [
    "# Funciones definidas para el primer sistema\n",
    "\n",
    "def GetVectorF_First(G,r):\n",
    "    \n",
    "    dim = len(G)\n",
    "    \n",
    "    v = np.zeros(dim)\n",
    "    \n",
    "    for i in range(dim):\n",
    "        v[i] = G[i](r[0],r[1])\n",
    "        \n",
    "    return v\n",
    "\n",
    "def GetJacobian_First(G,r,h=1e-6):\n",
    "    \n",
    "    dim = len(G)\n",
    "    \n",
    "    J = np.zeros((dim,dim))\n",
    "    \n",
    "    for i in range(dim):\n",
    "        J[i,0] = (  G[i](r[0]+h,r[1]) - G[i](r[0]-h,r[1]) )/(2*h)\n",
    "        J[i,1] = (  G[i](r[0],r[1]+h) - G[i](r[0],r[1]-h) )/(2*h)\n",
    "        \n",
    "    return np.transpose(J)\n",
    "\n",
    "def NewtonRaphson_First(G,r,error=1e-10):\n",
    "    \n",
    "    it = 0\n",
    "    d = 1\n",
    "    Vector_d = np.array([])\n",
    "    \n",
    "    while d > error:\n",
    "        \n",
    "        it += 1\n",
    "        \n",
    "        rc = r\n",
    "        \n",
    "        F = GetVectorF_First(G,r)\n",
    "        J = GetJacobian_First(G,r)\n",
    "        InvJ = np.linalg.inv(J)\n",
    "        \n",
    "        r = rc - np.dot( InvJ, F )\n",
    "        \n",
    "        diff = r - rc\n",
    "        print(diff)\n",
    "        \n",
    "        d = np.linalg.norm(diff)\n",
    "        \n",
    "        Vector_d = np.append( Vector_d , d )\n",
    "        \n",
    "    return r,it,Vector_d\n"
   ]
  },
  {
   "cell_type": "code",
   "execution_count": 3,
   "id": "97f355ec",
   "metadata": {},
   "outputs": [],
   "source": [
    "# Funciones definidas para el primer sistema\n",
    "\n",
    "def GetVectorF_Second(G,r):\n",
    "    \n",
    "    dim = len(G)\n",
    "    \n",
    "    v = np.zeros(dim)\n",
    "    \n",
    "    for i in range(dim):\n",
    "        v[i] = G[i](r[0],r[1],r[2])\n",
    "        \n",
    "    return v\n",
    "\n",
    "def GetJacobian_Second(G,r,h=1e-6):\n",
    "    \n",
    "    dim = len(G)\n",
    "    \n",
    "    J = np.zeros((dim,dim))\n",
    "    \n",
    "    for i in range(dim):\n",
    "        J[i,0] = (  G[i](r[0]+h,r[1],r[2]) - G[i](r[0]-h,r[1],r[2]) )/(2*h)\n",
    "        J[i,1] = (  G[i](r[0],r[1]+h,r[2]) - G[i](r[0],r[1]-h,r[2]) )/(2*h)\n",
    "        J[i,2] = (  G[i](r[0],r[1],r[2]+h) - G[i](r[0],r[1],r[2]-h) )/(2*h)\n",
    "        \n",
    "    return J.T\n",
    "\n",
    "def NewtonRaphson_Second(G,r,error=1e-10):\n",
    "    \n",
    "    it = 0\n",
    "    d = 1\n",
    "    Vector_d = np.array([])\n",
    "    \n",
    "    while d > error:\n",
    "        \n",
    "        it += 1\n",
    "        \n",
    "        rc = r\n",
    "        \n",
    "        F = GetVectorF_Second(G,r)\n",
    "        J = GetJacobian_Second(G,r)\n",
    "        InvJ = np.linalg.inv(J)\n",
    "        \n",
    "        r = rc - np.dot( InvJ, F )\n",
    "        \n",
    "        diff = r - rc\n",
    "        print(diff)\n",
    "        \n",
    "        d = np.linalg.norm(diff)\n",
    "        \n",
    "        Vector_d = np.append( Vector_d , d )\n",
    "        \n",
    "    return r,it,Vector_d\n"
   ]
  },
  {
   "cell_type": "markdown",
   "id": "86292fab",
   "metadata": {},
   "source": [
    "## Primer Sistema de Ecuaciones"
   ]
  },
  {
   "cell_type": "code",
   "execution_count": 4,
   "id": "bc04cbc7",
   "metadata": {},
   "outputs": [],
   "source": [
    "# Definimos el sistema en una tupla\n",
    "First_system = (lambda x,y: np.log10((x**2)+(y**2))-np.sin(x*y)-np.log10(2)-np.log10(np.pi), \\\n",
    "                lambda x,y: np.exp(x-y)+np.cos(x*y))"
   ]
  },
  {
   "cell_type": "code",
   "execution_count": 5,
   "id": "7277c958",
   "metadata": {},
   "outputs": [
    {
     "name": "stdout",
     "output_type": "stream",
     "text": [
      "0.8617126139417566\n",
      "0.34635637913638806\n"
     ]
    }
   ],
   "source": [
    "for i in range(2):\n",
    "    print(First_system[i](2,2))"
   ]
  },
  {
   "cell_type": "code",
   "execution_count": 6,
   "id": "ecdd4341",
   "metadata": {},
   "outputs": [
    {
     "data": {
      "text/plain": [
       "array([0.86171261, 0.34635638])"
      ]
     },
     "execution_count": 6,
     "metadata": {},
     "output_type": "execute_result"
    }
   ],
   "source": [
    "GetVectorF_First(First_system,[2,2])"
   ]
  },
  {
   "cell_type": "code",
   "execution_count": 7,
   "id": "0565fb83",
   "metadata": {},
   "outputs": [
    {
     "data": {
      "text/plain": [
       "array([[1.52443448, 2.51360499],\n",
       "       [1.52443448, 0.51360499]])"
      ]
     },
     "execution_count": 7,
     "metadata": {},
     "output_type": "execute_result"
    }
   ],
   "source": [
    "GetJacobian_First(First_system,[2,2])"
   ]
  },
  {
   "cell_type": "code",
   "execution_count": 8,
   "id": "0450768a",
   "metadata": {},
   "outputs": [
    {
     "name": "stdout",
     "output_type": "stream",
     "text": [
      "[-0.14038754 -0.25767812]\n",
      "[-0.05990333  0.00474771]\n",
      "[-0.01423362  0.02382817]\n",
      "[-0.00932383 -0.00410989]\n",
      "[-0.00132467  0.00663349]\n",
      "[-0.00200853 -0.00265623]\n",
      "[0.000157   0.00236033]\n",
      "[-0.00055755 -0.00127782]\n",
      "[0.00018049 0.00093282]\n",
      "[-0.00019013 -0.00056622]\n",
      "[9.46409852e-05 3.84710406e-04]\n",
      "[-7.32241148e-05 -2.43858153e-04]\n",
      "[4.29935708e-05 1.61305264e-04]\n",
      "[-2.98484682e-05 -1.03935196e-04]\n",
      "[1.86760019e-05 6.80601614e-05]\n",
      "[-1.24555780e-05 -4.41262568e-05]\n",
      "[7.98516564e-06 2.87852740e-05]\n",
      "[-5.24554077e-06 -1.87066006e-05]\n",
      "[3.39422291e-06 1.21853721e-05]\n",
      "[-2.21691092e-06 -7.92595722e-06]\n",
      "[1.43959127e-06 5.16007060e-06]\n",
      "[-9.38192796e-07 -3.35750766e-06]\n",
      "[6.10062277e-07 2.18539035e-06]\n",
      "[-3.97246632e-07 -1.42215640e-06]\n",
      "[2.58446115e-07 9.25601424e-07]\n",
      "[-1.68234271e-07 -6.02371368e-07]\n",
      "[1.09474349e-07 3.92037228e-07]\n",
      "[-7.12527968e-08 -2.55138575e-07]\n",
      "[4.63696783e-08 1.66048062e-07]\n",
      "[-3.01788174e-08 -1.08065219e-07]\n",
      "[1.96402845e-08 7.03301513e-08]\n",
      "[-1.27822564e-08 -4.57714822e-08]\n",
      "[8.31875524e-09 2.97885785e-08]\n",
      "[-5.41395706e-09 -1.93866925e-08]\n",
      "[3.52344665e-09 1.26170612e-08]\n",
      "[-2.29309904e-09 -8.21130786e-09]\n",
      "[1.49237023e-09 5.34400280e-09]\n",
      "[-9.71250413e-10 -3.47793061e-09]\n",
      "[6.32099262e-10 2.26347252e-09]\n",
      "[-4.11376710e-10 -1.47309076e-09]\n",
      "[2.67728062e-10 9.58702451e-10]\n",
      "[-1.74240178e-10 -6.23933127e-10]\n",
      "[1.13397292e-10 4.06061851e-10]\n",
      "[-7.38000772e-11 -2.64269051e-10]\n",
      "[4.80298024e-11 1.71988868e-10]\n",
      "[-3.12583293e-11 -1.11932241e-10]\n",
      "[2.03432826e-11 7.28468397e-11]\n"
     ]
    }
   ],
   "source": [
    "r1,it1,distancias1 = NewtonRaphson_First(First_system,[2,2])"
   ]
  },
  {
   "cell_type": "code",
   "execution_count": 9,
   "id": "1f80736a",
   "metadata": {},
   "outputs": [
    {
     "data": {
      "text/plain": [
       "[<matplotlib.lines.Line2D at 0x187cee0e4f0>]"
      ]
     },
     "execution_count": 9,
     "metadata": {},
     "output_type": "execute_result"
    },
    {
     "data": {
      "image/png": "[encoded data removed]",
      "text/plain": [
       "<Figure size 432x288 with 1 Axes>"
      ]
     },
     "metadata": {
      "needs_background": "light"
     },
     "output_type": "display_data"
    }
   ],
   "source": [
    "plt.plot(distancias1)"
   ]
  },
  {
   "cell_type": "code",
   "execution_count": 10,
   "id": "61e71fba",
   "metadata": {},
   "outputs": [
    {
     "name": "stdout",
     "output_type": "stream",
     "text": [
      "[1.77245385 1.77245385]\n"
     ]
    }
   ],
   "source": [
    "print(r1)"
   ]
  },
  {
   "cell_type": "markdown",
   "id": "4884819d",
   "metadata": {},
   "source": [
    "## Segundo Sistema de Ecuaciones"
   ]
  },
  {
   "cell_type": "code",
   "execution_count": 11,
   "id": "47a878d1",
   "metadata": {},
   "outputs": [],
   "source": [
    "# Definimos el segundo sistema en una tupla\n",
    "Second_system = (lambda x,y,z: 6*x-2*np.cos(y*z)-1,    \\\n",
    "                 lambda x,y,z: 9*y+np.sqrt((x**2)+np.sin(z)+1.06)+0.9,    \\\n",
    "                 lambda x,y,z: 60*z+3*np.exp(-x*y)+10*np.pi-3)"
   ]
  },
  {
   "cell_type": "code",
   "execution_count": 12,
   "id": "6769ae33",
   "metadata": {},
   "outputs": [
    {
     "name": "stdout",
     "output_type": "stream",
     "text": [
      "-3.0\n",
      "1.9295630140987\n",
      "31.41592653589793\n"
     ]
    }
   ],
   "source": [
    "for i in range(3):\n",
    "    print(Second_system[i](0,0,0))"
   ]
  },
  {
   "cell_type": "code",
   "execution_count": 13,
   "id": "821f6aaf",
   "metadata": {},
   "outputs": [
    {
     "data": {
      "text/plain": [
       "array([-3.        ,  1.92956301, 31.41592654])"
      ]
     },
     "execution_count": 13,
     "metadata": {},
     "output_type": "execute_result"
    }
   ],
   "source": [
    "GetVectorF_Second(Second_system,[0,0,0])"
   ]
  },
  {
   "cell_type": "code",
   "execution_count": 14,
   "id": "69f2f890",
   "metadata": {},
   "outputs": [
    {
     "data": {
      "text/plain": [
       "array([[ 6.        ,  0.        , -3.        ],\n",
       "       [ 1.68294197,  9.        ,  0.        ],\n",
       "       [-1.68294197,  0.57789944, 60.        ]])"
      ]
     },
     "execution_count": 14,
     "metadata": {},
     "output_type": "execute_result"
    }
   ],
   "source": [
    "GetJacobian_Second(Second_system,[0,1,-1])"
   ]
  },
  {
   "cell_type": "code",
   "execution_count": 15,
   "id": "4d463fff",
   "metadata": {},
   "outputs": [
    {
     "name": "stdout",
     "output_type": "stream",
     "text": [
      "[ 0.5        -0.21439589 -0.52186344]\n",
      "[-0.00238106  0.01288117 -0.00749826]\n",
      "[0.00024297 0.00205967 0.00047268]\n",
      "[ 2.87757327e-04 -1.13360672e-04  7.14204832e-05]\n",
      "[ 2.08603051e-07 -3.95328587e-05 -7.08199208e-06]\n",
      "[-5.19275201e-06  1.33730455e-06 -1.42170847e-06]\n",
      "[-9.77612319e-08  7.39309225e-07  1.02405968e-07]\n",
      "[ 9.21706162e-08 -1.08171067e-08  2.75706463e-08]\n",
      "[ 3.43583895e-09 -1.35697276e-08 -1.35376188e-09]\n",
      "[-1.60520347e-09 -4.97944741e-11 -5.23240118e-10]\n",
      "[-9.11919984e-11  2.44574361e-10  1.50240931e-11]\n",
      "[2.73883694e-11 5.32510147e-12 9.73710002e-12]\n"
     ]
    }
   ],
   "source": [
    "r2,it2,distancias2 = NewtonRaphson_Second(Second_system,[0,0,0])"
   ]
  },
  {
   "cell_type": "code",
   "execution_count": 16,
   "id": "8a6426b7",
   "metadata": {},
   "outputs": [
    {
     "data": {
      "text/plain": [
       "[<matplotlib.lines.Line2D at 0x187ceef4850>]"
      ]
     },
     "execution_count": 16,
     "metadata": {},
     "output_type": "execute_result"
    },
    {
     "data": {
      "image/png": "[encoded data removed]",
      "text/plain": [
       "<Figure size 432x288 with 1 Axes>"
      ]
     },
     "metadata": {
      "needs_background": "light"
     },
     "output_type": "display_data"
    }
   ],
   "source": [
    "plt.plot(distancias2)"
   ]
  },
  {
   "cell_type": "code",
   "execution_count": 17,
   "id": "461ecacd",
   "metadata": {},
   "outputs": [
    {
     "name": "stdout",
     "output_type": "stream",
     "text": [
      "[ 0.49814468 -0.1996059  -0.52882598]\n"
     ]
    }
   ],
   "source": [
    "print(r2)"
   ]
  }
 ],
 "metadata": {
  "kernelspec": {
   "display_name": "Python 3 (ipykernel)",
   "language": "python",
   "name": "python3"
  },
  "language_info": {
   "codemirror_mode": {
    "name": "ipython",
    "version": 3
   },
   "file_extension": ".py",
   "mimetype": "text/x-python",
   "name": "python",
   "nbconvert_exporter": "python",
   "pygments_lexer": "ipython3",
   "version": "3.9.12"
  }
 },
 "nbformat": 4,
 "nbformat_minor": 5
}
