{
 "cells": [
  {
   "cell_type": "code",
   "execution_count": 1,
   "id": "011891ee",
   "metadata": {},
   "outputs": [],
   "source": [
    "\n",
    "import numpy as np\n",
    "import matplotlib.pyplot as plt\n"
   ]
  },
  {
   "cell_type": "markdown",
   "id": "91a31875",
   "metadata": {},
   "source": [
    "## Punto 1"
   ]
  },
  {
   "cell_type": "code",
   "execution_count": 2,
   "id": "12f3a4a6",
   "metadata": {},
   "outputs": [
    {
     "name": "stdout",
     "output_type": "stream",
     "text": [
      "[[ 3. -1. -1.]\n",
      " [-1.  3.  1.]\n",
      " [ 2.  1.  4.]]\n",
      "[1. 3. 7.]\n"
     ]
    }
   ],
   "source": [
    "# Sistema de ecuaciones \n",
    "\n",
    "M = np.array([[3,-1,-1],[-1.,3.,1.],[2,1,4]])\n",
    "print(M)\n",
    "b = np.array([1.,3.,7.])\n",
    "print(b)\n"
   ]
  },
  {
   "cell_type": "code",
   "execution_count": 3,
   "id": "6b7d2d62",
   "metadata": {},
   "outputs": [],
   "source": [
    "# Definición de la función\n",
    "\n",
    "def Metodo_Gauss_Seidel(M,b, itmax=1000, error=1e-10):\n",
    "    \n",
    "    rows,col = M.shape\n",
    "    it = 0\n",
    "        \n",
    "    solution = np.zeros(col)\n",
    "        \n",
    "    res = np.linalg.norm(b - np.dot(M,solution))\n",
    "        \n",
    "    while res > error and it < itmax:\n",
    "            \n",
    "        for i in range(rows):\n",
    "                \n",
    "            sum_ = 0\n",
    "                \n",
    "            for j in range(col):\n",
    "                    \n",
    "                if i != j:\n",
    "                    sum_ += M[i][j]*solution[j]\n",
    "                        \n",
    "            solution[i] = (b[i] - sum_)/M[i][i] \n",
    "                \n",
    "              \n",
    "        res = np.linalg.norm( b - np.dot(M,solution) )\n",
    "            \n",
    "        it += 1\n",
    "\n",
    "    return solution,it\n",
    "    "
   ]
  },
  {
   "cell_type": "code",
   "execution_count": 4,
   "id": "d580ed5c",
   "metadata": {},
   "outputs": [
    {
     "name": "stdout",
     "output_type": "stream",
     "text": [
      "La solución al sistema de ecuaciones es: [1. 1. 1.]\n",
      "Iteraciones necesarias: 18\n"
     ]
    }
   ],
   "source": [
    "\n",
    "respuesta,iteraciones = Metodo_Gauss_Seidel(M,b)\n",
    "\n",
    "print(f'La solución al sistema de ecuaciones es: {respuesta}')\n",
    "print(f'Iteraciones necesarias: {iteraciones}')\n"
   ]
  }
 ],
 "metadata": {
  "kernelspec": {
   "display_name": "Python 3 (ipykernel)",
   "language": "python",
   "name": "python3"
  },
  "language_info": {
   "codemirror_mode": {
    "name": "ipython",
    "version": 3
   },
   "file_extension": ".py",
   "mimetype": "text/x-python",
   "name": "python",
   "nbconvert_exporter": "python",
   "pygments_lexer": "ipython3",
   "version": "3.9.12"
  }
 },
 "nbformat": 4,
 "nbformat_minor": 5
}
