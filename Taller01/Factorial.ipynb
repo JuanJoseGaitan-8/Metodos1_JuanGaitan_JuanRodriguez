{
 "cells": [
  {
   "cell_type": "code",
   "execution_count": 45,
   "id": "04e3505f",
   "metadata": {},
   "outputs": [
    {
     "name": "stdout",
     "output_type": "stream",
     "text": [
      "El numero factorial de 1 es: 1\n",
      "El numero factorial de 2 es: 2\n",
      "El numero factorial de 3 es: 6\n",
      "El numero factorial de 4 es: 24\n",
      "El numero factorial de 5 es: 120\n",
      "El numero factorial de 6 es: 720\n",
      "El numero factorial de 7 es: 5040\n",
      "El numero factorial de 8 es: 40320\n",
      "El numero factorial de 9 es: 362880\n",
      "El numero factorial de 10 es: 3628800\n",
      "El numero factorial de 11 es: 39916800\n",
      "El numero factorial de 12 es: 479001600\n",
      "El numero factorial de 13 es: 6227020800\n",
      "El numero factorial de 14 es: 87178291200\n",
      "El numero factorial de 15 es: 1307674368000\n",
      "El numero factorial de 16 es: 20922789888000\n",
      "El numero factorial de 17 es: 355687428096000\n",
      "El numero factorial de 18 es: 6402373705728000\n",
      "El numero factorial de 19 es: 121645100408832000\n",
      "El numero factorial de 20 es: 2432902008176640000\n"
     ]
    }
   ],
   "source": [
    "#Punto 3. Numeros Factoriales\n",
    "#Punto1.Calcular Factorial\n",
    "def calcular_Factor(numero_inicial):\n",
    "    numero = 1\n",
    "    if numero_inicial >= 1:\n",
    "        for i in range(1,numero_inicial+1):\n",
    "            numero = numero*i \n",
    "            print(\"El numero factorial de\", i,\"es:\", numero)\n",
    "    else:\n",
    "        print(\"Error: El numero que has escogido no presenta factorial\")\n",
    "    \n",
    "calcular_Factor(20)\n",
    "\n",
    "\n",
    "    \n",
    "    \n",
    "              \n",
    "\n",
    "    "
   ]
  },
  {
   "cell_type": "code",
   "execution_count": 109,
   "id": "c24261ff",
   "metadata": {},
   "outputs": [
    {
     "name": "stdout",
     "output_type": "stream",
     "text": [
      "720\n",
      "6\n",
      "El valor de la variación es: 120\n"
     ]
    }
   ],
   "source": [
    "#Punto2. Calcular Variaciones sin repetición\n",
    "def variaciones(n,r):\n",
    "    numero_n = 1\n",
    "    numero_r = 1\n",
    "    numero_x = n-r\n",
    "    if n > r and n and r >= 1:\n",
    "        for i in range(1, n+1):\n",
    "            numero_n = numero_n*i\n",
    "        print(numero_n)\n",
    "        for j in range(1,numero_x+1):\n",
    "            numero_r = numero_r*j\n",
    "        print(numero_r)\n",
    "        a = numero_n/numero_r\n",
    "        print(\"El valor de la variación es:\" , int(a))\n",
    "variaciones(6,3)\n",
    "    \n",
    "\n",
    "  \n",
    "    \n"
   ]
  },
  {
   "cell_type": "code",
   "execution_count": 118,
   "id": "2b6991c0",
   "metadata": {},
   "outputs": [
    {
     "name": "stdout",
     "output_type": "stream",
     "text": [
      "El valor de la combinación es: 705432\n",
      "El valor de la combinación es: 352716\n"
     ]
    }
   ],
   "source": [
    "#Punto3. Combinaciones sin repetición.\n",
    "import math\n",
    "def combinacion(n,m):\n",
    "    numero1 = n-m\n",
    "    if n > m:\n",
    "        a = math.factorial(n)/(math.factorial(m)*(math.factorial(numero1)))\n",
    "        print(\"El valor de la combinación es:\", int(a))\n",
    "    else:\n",
    "        print(\"El valor ede m es menor que el de n y no se puede realizar el proceso\")\n",
    "combinacion(22,11)\n",
    "combinacion(21,10)\n",
    "    "
   ]
  },
  {
   "cell_type": "code",
   "execution_count": null,
   "id": "1db60ecb",
   "metadata": {},
   "outputs": [],
   "source": []
  },
  {
   "cell_type": "code",
   "execution_count": null,
   "id": "3ff4709e",
   "metadata": {},
   "outputs": [],
   "source": []
  },
  {
   "cell_type": "code",
   "execution_count": null,
   "id": "111d6db6",
   "metadata": {},
   "outputs": [],
   "source": []
  }
 ],
 "metadata": {
  "kernelspec": {
   "display_name": "Python 3 (ipykernel)",
   "language": "python",
   "name": "python3"
  },
  "language_info": {
   "codemirror_mode": {
    "name": "ipython",
    "version": 3
   },
   "file_extension": ".py",
   "mimetype": "text/x-python",
   "name": "python",
   "nbconvert_exporter": "python",
   "pygments_lexer": "ipython3",
   "version": "3.9.12"
  }
 },
 "nbformat": 4,
 "nbformat_minor": 5
}
