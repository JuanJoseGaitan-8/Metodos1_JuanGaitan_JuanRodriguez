{
 "cells": [
  {
   "cell_type": "code",
   "execution_count": 1,
   "id": "a625c15d",
   "metadata": {},
   "outputs": [],
   "source": [
    "import numpy as np\n",
    "import matplotlib.pyplot as plt\n",
    "import sympy as sym\n",
    "from scipy import optimize\n",
    "from scipy.stats import chi2\n",
    "import pandas as pd\n",
    "import os.path as path\n",
    "import urllib.request"
   ]
  },
  {
   "cell_type": "markdown",
   "id": "3eea99be",
   "metadata": {},
   "source": [
    "# Punto 7"
   ]
  },
  {
   "cell_type": "code",
   "execution_count": 2,
   "id": "ae9026b3",
   "metadata": {},
   "outputs": [],
   "source": [
    "# Datos\n",
    "\n",
    "file = 'Sigmoid.csv'\n",
    "url = 'https://raw.githubusercontent.com/asegura4488/Database/main/MetodosComputacionalesReforma/Sigmoid.csv'\n",
    "if not path.exists( file ):\n",
    "    Path_ = urllib.request.urlretrieve( url , file )\n",
    "    print( 'File loaded' )\n",
    "else:\n",
    "    Path_ = file\n",
    "    "
   ]
  },
  {
   "cell_type": "code",
   "execution_count": 3,
   "id": "dc85a6e2",
   "metadata": {},
   "outputs": [],
   "source": [
    "\n",
    "Data = pd.read_csv(Path_,sep=',')\n",
    "\n",
    "X = np.float64( Data['x'] )\n",
    "Y = np.float64( Data['y'] )\n",
    "N = Y.size\n",
    "h = 0.01\n"
   ]
  },
  {
   "cell_type": "markdown",
   "id": "d64a1ba1",
   "metadata": {},
   "source": [
    "### a)"
   ]
  },
  {
   "cell_type": "code",
   "execution_count": 4,
   "id": "e6368843",
   "metadata": {},
   "outputs": [],
   "source": [
    "# Modelo de ajuste\n",
    "\n",
    "def Sigmoide(x,P0,P1,P2):\n",
    "    Sigmoide = (P0) / ( P1 + np.exp( -P2 * x ) )\n",
    "    return Sigmoide\n"
   ]
  },
  {
   "cell_type": "markdown",
   "id": "d7e638d0",
   "metadata": {},
   "source": [
    "### b)"
   ]
  },
  {
   "cell_type": "code",
   "execution_count": 5,
   "id": "a7c2a699",
   "metadata": {},
   "outputs": [],
   "source": [
    "# Función de costo a minimizar\n",
    "\n",
    "def Funcion_de_costo(X, Y, a, b, c):\n",
    "    ChiSquared = 0\n",
    "    for i in range(N):\n",
    "        ChiSquared += (Y[i] - Sigmoide(X[i],a,b,c))**2\n",
    "    return ChiSquared\n"
   ]
  },
  {
   "cell_type": "markdown",
   "id": "620d40f6",
   "metadata": {},
   "source": [
    "### c)"
   ]
  },
  {
   "cell_type": "code",
   "execution_count": 6,
   "id": "ea639727",
   "metadata": {},
   "outputs": [],
   "source": [
    "\n",
    "def Costo_gradiente(x, y, a, b, c):\n",
    "    grad = np.zeros(3)\n",
    "    grad[0] = (Funcion_de_costo(X,Y,a+h,b,c) - Funcion_de_costo(X,Y,a-h,b,c)) / (2*h)\n",
    "    grad[1] = (Funcion_de_costo(X,Y,a,b+h,c) - Funcion_de_costo(X,Y,a,b-h,c)) / (2*h)\n",
    "    grad[2] = (Funcion_de_costo(X,Y,a,b,c+h) - Funcion_de_costo(X,Y,a,b,c-h)) / (2*h)\n",
    "    return grad\n"
   ]
  },
  {
   "cell_type": "markdown",
   "id": "6938b16f",
   "metadata": {},
   "source": [
    "### d)"
   ]
  },
  {
   "cell_type": "code",
   "execution_count": 7,
   "id": "a2e93187",
   "metadata": {},
   "outputs": [],
   "source": [
    "\n",
    "def Gradiente_descendiente(punto,lr,itmax,error):\n",
    "    \n",
    "    iteracion = 0\n",
    "    distancia_al_optimo = 1\n",
    "    \n",
    "    while distancia_al_optimo > float(error) and iteracion < int(itmax):\n",
    "            x_grad = Costo_gradiente(X,Y, punto[0], punto[1], punto[2])\n",
    "            punto = punto - lr*x_grad\n",
    "            distancia_al_optimo = np.linalg.norm( punto - optimize.curve_fit(Sigmoide,X,Y)[0] )\n",
    "            iteracion += 1\n",
    "            if itmax%iteracion == 2000:\n",
    "                print(f'Iteración: {iteracion} / {int(itmax)}')\n",
    "                \n",
    "    return punto, distancia_al_optimo,iteracion\n"
   ]
  },
  {
   "cell_type": "markdown",
   "id": "b6b10888",
   "metadata": {},
   "source": [
    "### e)"
   ]
  },
  {
   "cell_type": "code",
   "execution_count": 8,
   "id": "568bff61",
   "metadata": {},
   "outputs": [
    {
     "name": "stdout",
     "output_type": "stream",
     "text": [
      "Iteración: 2250 / 20000\n",
      "Iteración: 3000 / 20000\n",
      "Iteración: 3600 / 20000\n",
      "Iteración: 4500 / 20000\n",
      "Iteración: 6000 / 20000\n",
      "Iteración: 9000 / 20000\n",
      "Iteración: 18000 / 20000\n"
     ]
    }
   ],
   "source": [
    "\n",
    "Punto_0 = np.array([1,1,1])\n",
    "\n",
    "parametros = Gradiente_descendiente(Punto_0,5e-4,2e4,1e-2)\n",
    "\n",
    "P0 = parametros[0][0]\n",
    "P1 = parametros[0][1]\n",
    "P2 = parametros[0][2]\n",
    "\n",
    "ChiSquared = Funcion_de_costo(X,Y,P0,P1,P2)\n"
   ]
  },
  {
   "cell_type": "code",
   "execution_count": 9,
   "id": "b7904de9",
   "metadata": {},
   "outputs": [
    {
     "name": "stdout",
     "output_type": "stream",
     "text": [
      "Los parámetros θ_0, θ_1 y θ_2 que mejor se ajusten a los datos del sigmoide generado por el raw son:\n",
      " θ_0 = 4.394141971870481 // θ_1 = 0.9737879524137685 // θ_2 = 2.789338222493078\n",
      "Valor para χ^2 de: 0.10503710593049193\n",
      "Error absoluto de parada (ϵ): 0.009993016256835128\n",
      "Número de iteraciones totales: 19946\n"
     ]
    }
   ],
   "source": [
    "\n",
    "print(f'Los parámetros θ_0, θ_1 y θ_2 que mejor se ajusten a los datos del sigmoide generado por el raw son:')\n",
    "print(f' θ_0 = {P0} // θ_1 = {P1} // θ_2 = {P2}')\n",
    "\n",
    "print(f'Valor para χ^2 de: {ChiSquared}')\n",
    "\n",
    "print(f'Error absoluto de parada (ϵ): {parametros[1]}')\n",
    "\n",
    "print(f'Número de iteraciones totales: {parametros[2]}')\n"
   ]
  },
  {
   "cell_type": "markdown",
   "id": "20da1f52",
   "metadata": {},
   "source": [
    "### f)"
   ]
  },
  {
   "cell_type": "code",
   "execution_count": 10,
   "id": "2ed1607b",
   "metadata": {},
   "outputs": [
    {
     "data": {
      "image/png": "[encoded data removed]",
      "text/plain": [
       "<Figure size 432x432 with 1 Axes>"
      ]
     },
     "metadata": {
      "needs_background": "light"
     },
     "output_type": "display_data"
    }
   ],
   "source": [
    "# Grafica\n",
    "\n",
    "x = np.linspace(min(X),max(X),500)\n",
    "fig = plt.figure(figsize=(6,6))\n",
    "ax = fig.add_subplot(1,1,1)\n",
    "ax.scatter(X,Y,c='r',label='Scatter Plot')\n",
    "plt.plot(x,Sigmoide(x,P0,P1,P2),c='c',label='Sigmoid Function')\n",
    "plt.legend()\n",
    "plt.title('Chi-cuadrado (Best Fit Model)')\n",
    "plt.show()\n"
   ]
  }
 ],
 "metadata": {
  "kernelspec": {
   "display_name": "Python 3 (ipykernel)",
   "language": "python",
   "name": "python3"
  },
  "language_info": {
   "codemirror_mode": {
    "name": "ipython",
    "version": 3
   },
   "file_extension": ".py",
   "mimetype": "text/x-python",
   "name": "python",
   "nbconvert_exporter": "python",
   "pygments_lexer": "ipython3",
   "version": "3.9.12"
  }
 },
 "nbformat": 4,
 "nbformat_minor": 5
}
