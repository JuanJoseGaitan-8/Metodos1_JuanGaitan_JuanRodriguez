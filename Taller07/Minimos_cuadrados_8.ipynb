{
 "cells": [
  {
   "cell_type": "code",
   "execution_count": 1,
   "id": "79d947ea",
   "metadata": {},
   "outputs": [],
   "source": [
    "\n",
    "import numpy as np\n",
    "import matplotlib.pyplot as plt\n",
    "import sympy as sym\n"
   ]
  },
  {
   "cell_type": "markdown",
   "id": "e2494358",
   "metadata": {},
   "source": [
    "# Punto 8\n"
   ]
  },
  {
   "cell_type": "markdown",
   "id": "383e31fa",
   "metadata": {},
   "source": [
    "### a)"
   ]
  },
  {
   "cell_type": "code",
   "execution_count": 2,
   "id": "b58d3289",
   "metadata": {},
   "outputs": [],
   "source": [
    "Vector_b = [-3,-3,8,9]\n",
    "\n",
    "Vectores_generadores = [[3,1,-1],[1,2,0],[0,1,2],[1,1,-1]]\n",
    "\n",
    "Vectores_generadores = np.array(Vectores_generadores)\n",
    "\n",
    "Vectores_generadores_T = np.dot(Vectores_generadores.T,Vectores_generadores)\n",
    "\n",
    "Vector_bT = Vectores_generadores.T @ Vector_b \n",
    "\n",
    "solucion = np.linalg.solve(Vectores_generadores_T,Vector_bT)\n"
   ]
  },
  {
   "cell_type": "code",
   "execution_count": 3,
   "id": "10705b7d",
   "metadata": {},
   "outputs": [
    {
     "data": {
      "text/plain": [
       "array([-2.,  3.,  4.,  0.])"
      ]
     },
     "execution_count": 3,
     "metadata": {},
     "output_type": "execute_result"
    }
   ],
   "source": [
    "\n",
    "proyeccion_ortogonal = (np.dot(Vectores_generadores,solucion))\n",
    "\n",
    "proyeccion_ortogonal\n"
   ]
  },
  {
   "cell_type": "markdown",
   "id": "89293201",
   "metadata": {},
   "source": [
    "### b)"
   ]
  },
  {
   "cell_type": "code",
   "execution_count": 4,
   "id": "68441247",
   "metadata": {},
   "outputs": [],
   "source": [
    "\n",
    "Vector_u1 = [3,1,0,1]\n",
    "Vector_u2 = [1,2,1,1]\n",
    "Vector_u3 = [-1,0,2,-1]\n"
   ]
  },
  {
   "cell_type": "code",
   "execution_count": 5,
   "id": "4d382eb1",
   "metadata": {},
   "outputs": [],
   "source": [
    "\n",
    "Vector_u1 = np.array(Vector_u1)\n",
    "Vector_u2 = np.array(Vector_u2)\n",
    "Vector_u3 = np.array(Vector_u3)\n"
   ]
  },
  {
   "cell_type": "code",
   "execution_count": 6,
   "id": "8144d040",
   "metadata": {},
   "outputs": [
    {
     "data": {
      "text/plain": [
       "array([-2.00000000e+00,  3.00000000e+00,  4.00000000e+00,  2.22044605e-16])"
      ]
     },
     "execution_count": 6,
     "metadata": {},
     "output_type": "execute_result"
    }
   ],
   "source": [
    "Vector_v1 = Vector_u1\n",
    "\n",
    "Vector_v1 = Vector_v1/np.linalg.norm(Vector_v1)\n",
    "\n",
    "Vector_v2 = Vector_u2 - (np.dot(Vector_u2,Vector_v1)/(np.linalg.norm(Vector_v1)**2))*Vector_v1\n",
    "\n",
    "Vector_v2 = Vector_v2/np.linalg.norm(Vector_v2)\n",
    "\n",
    "Vector_v3 = Vector_u3 - (np.dot(Vector_u3,Vector_v1)/(np.dot(Vector_v1,Vector_v1)))*Vector_v1 - (np.dot(Vector_u3,Vector_v2)/(np.dot(Vector_v2,Vector_v2)))*Vector_v2\n",
    "\n",
    "Vector_v3 = Vector_v3/np.linalg.norm(Vector_v3)\n",
    "\n",
    "\n",
    "Valor1 = np.dot(Vector_b,Vector_v1)\n",
    "\n",
    "Valor2 = np.dot(Vector_b,Vector_v2)\n",
    "\n",
    "Valor3 = np.dot(Vector_b,Vector_v3)\n",
    "\n",
    "\n",
    "c1 = Valor1\n",
    "\n",
    "c2 = Valor2\n",
    "\n",
    "c3 = Valor3\n",
    "\n",
    "\n",
    "Proyeccion = c1*Vector_v1 + c2*Vector_v2 + c3*Vector_v3\n",
    "Proyeccion\n"
   ]
  }
 ],
 "metadata": {
  "kernelspec": {
   "display_name": "Python 3 (ipykernel)",
   "language": "python",
   "name": "python3"
  },
  "language_info": {
   "codemirror_mode": {
    "name": "ipython",
    "version": 3
   },
   "file_extension": ".py",
   "mimetype": "text/x-python",
   "name": "python",
   "nbconvert_exporter": "python",
   "pygments_lexer": "ipython3",
   "version": "3.9.12"
  }
 },
 "nbformat": 4,
 "nbformat_minor": 5
}
