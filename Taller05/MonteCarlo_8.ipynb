{
 "cells": [
  {
   "cell_type": "code",
   "execution_count": 1,
   "id": "d8915207",
   "metadata": {},
   "outputs": [],
   "source": [
    "import numpy as np\n",
    "from scipy import integrate"
   ]
  },
  {
   "cell_type": "markdown",
   "id": "f3b6881a",
   "metadata": {},
   "source": [
    "## Punto 8\n",
    "\n",
    "Halle el área bajo la curva usando el método de aceptación y rechazo con una incertidumbre del 1 %."
   ]
  },
  {
   "cell_type": "code",
   "execution_count": 2,
   "id": "cb09396e",
   "metadata": {},
   "outputs": [],
   "source": [
    "# Definimos la función\n",
    "\n",
    "alpha=2\n",
    "beta=4\n",
    "\n",
    "f = lambda x: np.math.factorial(alpha+beta-1)/(np.math.factorial(alpha-1)*np.math.factorial(beta-1))*x**(alpha-1)*(1-x)**(beta-1)\n"
   ]
  },
  {
   "cell_type": "code",
   "execution_count": 3,
   "id": "6f25caed",
   "metadata": {},
   "outputs": [],
   "source": [
    "\n",
    "x = np.random.uniform(0,1,size=1000)\n",
    "y = np.random.uniform(0,max(f(x)),size=1000)\n"
   ]
  },
  {
   "cell_type": "code",
   "execution_count": 4,
   "id": "c2daa619",
   "metadata": {},
   "outputs": [],
   "source": [
    "\n",
    "p_maximo = max(f(x))\n",
    "area_bajo_curva=[]\n",
    "for n in range(len(x)):\n",
    "    if y[n]<f(x[n]):\n",
    "        area_bajo_curva.append(x[n])\n",
    "        "
   ]
  },
  {
   "cell_type": "code",
   "execution_count": 5,
   "id": "9fd70cf2",
   "metadata": {},
   "outputs": [
    {
     "name": "stdout",
     "output_type": "stream",
     "text": [
      "Área bajo la curva usando el método de Monte Carlo: 0.9428812197356738\n",
      "Área bajo la curva usando la función integral de scipy: 1.0\n"
     ]
    }
   ],
   "source": [
    "\n",
    "res_MonteCarlo = len(area_bajo_curva)/len(x)*p_maximo\n",
    "integral = integrate.quad(f,0,1)\n",
    "print( f'Área bajo la curva usando el método de Monte Carlo: {res_MonteCarlo}' )\n",
    "print( f'Área bajo la curva usando la función integral de scipy: {integral[0]}' )\n"
   ]
  },
  {
   "cell_type": "code",
   "execution_count": 6,
   "id": "8302d08e",
   "metadata": {},
   "outputs": [
    {
     "name": "stdout",
     "output_type": "stream",
     "text": [
      "Error asociado al método de Monte Carlo: 0.05711878026432615\n",
      "Error asociado al la integral: 1.1102230246251565e-14\n"
     ]
    }
   ],
   "source": [
    "# Error asociado a la integración\n",
    "\n",
    "error_Scipy = integral[1]\n",
    "error_MonteCarlo= abs( 1 - res_MonteCarlo ) / 1\n",
    "print( f'Error asociado al método de Monte Carlo: {error_MonteCarlo}' )\n",
    "print( f'Error asociado al la integral: {error_Scipy}' )\n"
   ]
  }
 ],
 "metadata": {
  "kernelspec": {
   "display_name": "Python 3 (ipykernel)",
   "language": "python",
   "name": "python3"
  },
  "language_info": {
   "codemirror_mode": {
    "name": "ipython",
    "version": 3
   },
   "file_extension": ".py",
   "mimetype": "text/x-python",
   "name": "python",
   "nbconvert_exporter": "python",
   "pygments_lexer": "ipython3",
   "version": "3.9.12"
  }
 },
 "nbformat": 4,
 "nbformat_minor": 5
}
