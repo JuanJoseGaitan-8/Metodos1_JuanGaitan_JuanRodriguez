{
 "cells": [
  {
   "cell_type": "code",
   "execution_count": 1,
   "id": "610a19a5",
   "metadata": {},
   "outputs": [],
   "source": [
    "import numpy as np"
   ]
  },
  {
   "cell_type": "code",
   "execution_count": 12,
   "id": "41aa318b",
   "metadata": {},
   "outputs": [],
   "source": [
    "a = []\n"
   ]
  },
  {
   "cell_type": "code",
   "execution_count": 8,
   "id": "daca995e",
   "metadata": {},
   "outputs": [],
   "source": [
    "def funcionSumatoria(x1,x2,x3,x4,x5,x6,x7,x8):\n",
    "    return ((x1+x2+x3+x4+x5+x6+x7+x8)**2)/(2**7)"
   ]
  },
  {
   "cell_type": "code",
   "execution_count": 13,
   "id": "e91d5a64",
   "metadata": {},
   "outputs": [],
   "source": [
    "N = int(1e6)\n",
    "for i in range(N):\n",
    "    x1 = np.random.uniform(0,1)\n",
    "    x2 = np.random.uniform(0,1)\n",
    "    x3 = np.random.uniform(0,1)\n",
    "    x4 = np.random.uniform(0,1)\n",
    "    x5 = np.random.uniform(0,1)\n",
    "    x6 = np.random.uniform(0,1)\n",
    "    x7 = np.random.uniform(0,1)\n",
    "    x8 = np.random.uniform(0,1)\n",
    "    f = funcionSumatoria(x1,x2,x3,x4,x5,x6,x7,x8)\n",
    "    a.append(f)\n",
    "valor_promedio = np.average(a)"
   ]
  },
  {
   "cell_type": "code",
   "execution_count": 14,
   "id": "ada2637f",
   "metadata": {},
   "outputs": [
    {
     "name": "stdout",
     "output_type": "stream",
     "text": [
      "0.1301965454099106 0.13020833333333334\n"
     ]
    }
   ],
   "source": [
    "print (valor_promedio,25/192)\n"
   ]
  },
  {
   "cell_type": "code",
   "execution_count": null,
   "id": "b8a9a688",
   "metadata": {},
   "outputs": [],
   "source": []
  },
  {
   "cell_type": "code",
   "execution_count": null,
   "id": "461c3c41",
   "metadata": {},
   "outputs": [],
   "source": []
  }
 ],
 "metadata": {
  "kernelspec": {
   "display_name": "Python 3 (ipykernel)",
   "language": "python",
   "name": "python3"
  },
  "language_info": {
   "codemirror_mode": {
    "name": "ipython",
    "version": 3
   },
   "file_extension": ".py",
   "mimetype": "text/x-python",
   "name": "python",
   "nbconvert_exporter": "python",
   "pygments_lexer": "ipython3",
   "version": "3.9.12"
  }
 },
 "nbformat": 4,
 "nbformat_minor": 5
}
