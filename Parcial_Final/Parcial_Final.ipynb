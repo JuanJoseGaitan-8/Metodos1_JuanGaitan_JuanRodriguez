{
 "cells": [
  {
   "cell_type": "code",
   "execution_count": 1,
   "id": "dca85303",
   "metadata": {},
   "outputs": [],
   "source": [
    "\n",
    "import numpy as np\n",
    "import matplotlib.pyplot as plt\n",
    "from itertools import permutations\n",
    "from itertools import combinations\n",
    "from itertools import combinations_with_replacement\n"
   ]
  },
  {
   "cell_type": "markdown",
   "id": "58a0fc8c",
   "metadata": {},
   "source": [
    "# PARCIAL FINAL\n",
    "\n",
    "Juan José Gaitán - 201912484\n",
    "\n",
    "Juan Daniel Rodriguez - 201921704"
   ]
  },
  {
   "cell_type": "markdown",
   "id": "85182a29",
   "metadata": {},
   "source": [
    "## a)"
   ]
  },
  {
   "cell_type": "code",
   "execution_count": 2,
   "id": "6e18c945",
   "metadata": {},
   "outputs": [],
   "source": [
    "# Estados y priors\n",
    "\n",
    "Estados = np.array([0,1])\n",
    "\n",
    "Prior =  np.array([0.2,0.8])\n"
   ]
  },
  {
   "cell_type": "code",
   "execution_count": 3,
   "id": "768c160f",
   "metadata": {},
   "outputs": [],
   "source": [
    "# Matrices de emisión y transmision\n",
    "\n",
    "T = np.array([[0.8,0.2],[0.2,0.8]])\n",
    "\n",
    "E = np.array([[0.5,0.9],[0.5,0.1]])\n"
   ]
  },
  {
   "cell_type": "code",
   "execution_count": 4,
   "id": "2b09a424",
   "metadata": {},
   "outputs": [
    {
     "data": {
      "text/plain": [
       "'Justa'"
      ]
     },
     "execution_count": 4,
     "metadata": {},
     "output_type": "execute_result"
    }
   ],
   "source": [
    "\n",
    "DictH = {0:'Justa',1:'Sesgada'}\n",
    "DictH[0]\n"
   ]
  },
  {
   "cell_type": "code",
   "execution_count": 5,
   "id": "48b0f6dd",
   "metadata": {},
   "outputs": [
    {
     "data": {
      "text/plain": [
       "'Sello'"
      ]
     },
     "execution_count": 5,
     "metadata": {},
     "output_type": "execute_result"
    }
   ],
   "source": [
    "\n",
    "DictO = {0:'Cara',1:'Sello'}\n",
    "DictO[1]\n"
   ]
  },
  {
   "cell_type": "code",
   "execution_count": 6,
   "id": "32f0b2d5",
   "metadata": {},
   "outputs": [],
   "source": [
    "\n",
    "Obs = np.array([1,0,0,0,1,0,1,0])\n"
   ]
  },
  {
   "cell_type": "code",
   "execution_count": 7,
   "id": "c292a000",
   "metadata": {},
   "outputs": [],
   "source": [
    "\n",
    "def GetHiddenStates(States, N):\n",
    "    \n",
    "    CStates = list( combinations_with_replacement(States,N) )\n",
    "    \n",
    "    Permu = []\n",
    "    \n",
    "    for it in CStates:\n",
    "        p = list(permutations(it,N))\n",
    "        \n",
    "        for i in p:\n",
    "            if i not in Permu:\n",
    "                Permu.append(i)\n",
    "    \n",
    "    print(CStates)\n",
    "    return np.array(Permu)\n"
   ]
  },
  {
   "cell_type": "code",
   "execution_count": 8,
   "id": "d2a13f37",
   "metadata": {},
   "outputs": [
    {
     "name": "stdout",
     "output_type": "stream",
     "text": [
      "[(0, 0, 0, 0, 0, 0, 0, 0), (0, 0, 0, 0, 0, 0, 0, 1), (0, 0, 0, 0, 0, 0, 1, 1), (0, 0, 0, 0, 0, 1, 1, 1), (0, 0, 0, 0, 1, 1, 1, 1), (0, 0, 0, 1, 1, 1, 1, 1), (0, 0, 1, 1, 1, 1, 1, 1), (0, 1, 1, 1, 1, 1, 1, 1), (1, 1, 1, 1, 1, 1, 1, 1)]\n"
     ]
    }
   ],
   "source": [
    "\n",
    "HiddenStates = GetHiddenStates(Estados,8)\n"
   ]
  },
  {
   "cell_type": "code",
   "execution_count": 9,
   "id": "4df12af3",
   "metadata": {},
   "outputs": [
    {
     "name": "stdout",
     "output_type": "stream",
     "text": [
      "[1 0 0 0 1 0 1 0]\n"
     ]
    }
   ],
   "source": [
    "\n",
    "len(HiddenStates)\n",
    "print(Obs)\n"
   ]
  },
  {
   "cell_type": "markdown",
   "id": "5d91eadb",
   "metadata": {},
   "source": [
    "## b)"
   ]
  },
  {
   "cell_type": "code",
   "execution_count": 10,
   "id": "2c68bbb2",
   "metadata": {},
   "outputs": [],
   "source": [
    "\n",
    "def GetProb(T,E,Obs,State,Prior):\n",
    "    \n",
    "    n = len(Obs)\n",
    "    p = 1.\n",
    "    \n",
    "    p *= Prior[State[0] ]\n",
    "    \n",
    "    for i in range(n-1):\n",
    "        p *= T[ State[i+1], State[i] ]\n",
    "    \n",
    "    \n",
    "    \n",
    "    for i in range(n):\n",
    "        p *= E[ Obs[i], State[i] ]\n",
    "        \n",
    "    #print(p, State)\n",
    "    \n",
    "    return p\n"
   ]
  },
  {
   "cell_type": "code",
   "execution_count": 11,
   "id": "8cc3c78a",
   "metadata": {},
   "outputs": [],
   "source": [
    "\n",
    "dim = HiddenStates.shape[0]\n",
    "P = np.zeros(dim)\n",
    "\n",
    "for i in range(dim):\n",
    "    P[i] = GetProb(T,E,Obs,HiddenStates[i],Prior)    \n"
   ]
  },
  {
   "cell_type": "code",
   "execution_count": 12,
   "id": "a7bef35a",
   "metadata": {},
   "outputs": [
    {
     "name": "stdout",
     "output_type": "stream",
     "text": [
      "0.0019344381513984013\n"
     ]
    }
   ],
   "source": [
    "\n",
    "PObs = np.sum(P)\n",
    "print(PObs)\n"
   ]
  },
  {
   "cell_type": "code",
   "execution_count": 13,
   "id": "6f2ccd1f",
   "metadata": {},
   "outputs": [
    {
     "name": "stdout",
     "output_type": "stream",
     "text": [
      "Estados ocultos = [[1 1 1 1 0 0 0 0]] Probabilidad máxima = 0.0001911029760000001\n"
     ]
    }
   ],
   "source": [
    "\n",
    "maxP1 = np.max(P)\n",
    "ii1 = np.where( P == np.amax(P))\n",
    "print( f'Estados ocultos = {HiddenStates[ii1]}' , f'Probabilidad máxima = {maxP1}' )\n"
   ]
  },
  {
   "cell_type": "code",
   "execution_count": 14,
   "id": "26e924de",
   "metadata": {},
   "outputs": [
    {
     "data": {
      "image/png": "[encoded data removed]",
      "text/plain": [
       "<Figure size 432x288 with 1 Axes>"
      ]
     },
     "metadata": {
      "needs_background": "light"
     },
     "output_type": "display_data"
    }
   ],
   "source": [
    "\n",
    "plt.plot(P,color='k',label='Probabilidad por secuencia')\n",
    "plt.axhline(y=maxP1, c='r', label=f'MaxP = {round(maxP1,4)}' )\n",
    "plt.grid(axis='both')\n",
    "plt.xlabel('Estados Ocultos')\n",
    "plt.ylabel('Probabilidad')\n",
    "plt.legend(loc='best') \n",
    "plt.show()\n"
   ]
  },
  {
   "cell_type": "markdown",
   "id": "b76b068f",
   "metadata": {},
   "source": [
    "## c)"
   ]
  },
  {
   "cell_type": "code",
   "execution_count": 15,
   "id": "075079d8",
   "metadata": {},
   "outputs": [
    {
     "name": "stdout",
     "output_type": "stream",
     "text": [
      "[(0, 0, 0, 0, 0, 0, 0, 0), (0, 0, 0, 0, 0, 0, 0, 1), (0, 0, 0, 0, 0, 0, 1, 1), (0, 0, 0, 0, 0, 1, 1, 1), (0, 0, 0, 0, 1, 1, 1, 1), (0, 0, 0, 1, 1, 1, 1, 1), (0, 0, 1, 1, 1, 1, 1, 1), (0, 1, 1, 1, 1, 1, 1, 1), (1, 1, 1, 1, 1, 1, 1, 1)]\n"
     ]
    }
   ],
   "source": [
    "\n",
    "ObsStates = GetHiddenStates([0,1],8)\n",
    "\n",
    "NObs = ObsStates.shape[0]\n",
    "\n",
    "PObs = np.zeros(NObs)\n",
    "\n",
    "for j in range(NObs):\n",
    "    \n",
    "    dim = HiddenStates.shape[0]\n",
    "    P1 = np.zeros(dim)\n",
    "    \n",
    "    for i in range(dim):\n",
    "        P1[i] = GetProb(T,E,ObsStates[j],HiddenStates[i],Prior)\n",
    "        \n",
    "    PObs[j] = np.sum(P1)\n",
    "    "
   ]
  },
  {
   "cell_type": "code",
   "execution_count": 16,
   "id": "5c2003e9",
   "metadata": {},
   "outputs": [
    {
     "name": "stdout",
     "output_type": "stream",
     "text": [
      "Estados Observables = [[0 0 0 0 0 0 0 0]] Probabilidad máxima = 0.13698241367042568\n"
     ]
    }
   ],
   "source": [
    "\n",
    "maxP2 = np.max(PObs)\n",
    "ii2 = np.where( PObs == np.amax(PObs))\n",
    "print( f'Estados Observables = {ObsStates[ii2]}' , f'Probabilidad máxima = {maxP2}' )\n"
   ]
  },
  {
   "cell_type": "code",
   "execution_count": 17,
   "id": "59c714b2",
   "metadata": {},
   "outputs": [
    {
     "name": "stdout",
     "output_type": "stream",
     "text": [
      "Estados: 256\n"
     ]
    },
    {
     "data": {
      "image/png": "[encoded data removed]",
      "text/plain": [
       "<Figure size 432x288 with 1 Axes>"
      ]
     },
     "metadata": {
      "needs_background": "light"
     },
     "output_type": "display_data"
    }
   ],
   "source": [
    "\n",
    "print(f'Estados: {len(PObs)}')\n",
    "plt.plot(PObs)\n",
    "plt.axhline(y=maxP2, color='r')\n",
    "plt.legend(['Probabilidad de cada estado observable',f'MaxP = {round(maxP2,3)}'])\n",
    "plt.xlabel('Estados Observables')\n",
    "plt.ylabel('Probabilidad')\n",
    "plt.grid(axis='both')\n",
    "plt.show()\n"
   ]
  },
  {
   "cell_type": "markdown",
   "id": "f3986b97",
   "metadata": {},
   "source": [
    "## d)"
   ]
  },
  {
   "cell_type": "code",
   "execution_count": 18,
   "id": "3433e123",
   "metadata": {},
   "outputs": [
    {
     "name": "stdout",
     "output_type": "stream",
     "text": [
      "1.0000000000000007\n"
     ]
    }
   ],
   "source": [
    "# Sumatoria de los estados observables\n",
    "\n",
    "P_Total = np.sum(PObs)\n",
    "\n",
    "print(P_Total)\n"
   ]
  },
  {
   "cell_type": "markdown",
   "id": "b67db437",
   "metadata": {},
   "source": [
    "## e)\n",
    "#### ¿Depende el resultado de la probabilidad a-priori?"
   ]
  },
  {
   "cell_type": "markdown",
   "id": "0bd9699e",
   "metadata": {},
   "source": [
    "Si depende el resultado de la probabilidad a-priori, debido a que este se encuentra relacionado a los valores iniciales otorgados por el enunciado en la utilización de este método. Se puede observar que la secuencia oculta más probable y su valor de probabilidad cambian significativamente, porque el cálculo de la probabilidad comienza con un número diferente, por lo que consecuentemente, el resultado se ve afectado. Por otro lado, las probabilidades de los estados observables se ven ligeramente afectadas, pero hay variaciones notorias.\n",
    "\n",
    "En conclusión, el valor a-priori sí afecta el resultado, ya que este valor se utiliza para calcular la probabilidad de la correspondiente secuencia de estados ocultos o estados observables. Se puede ver un claro indicio del porqué utilizando la función, en la cual se ve un cambio en las secuencias de las probabilidades."
   ]
  }
 ],
 "metadata": {
  "kernelspec": {
   "display_name": "Python 3 (ipykernel)",
   "language": "python",
   "name": "python3"
  },
  "language_info": {
   "codemirror_mode": {
    "name": "ipython",
    "version": 3
   },
   "file_extension": ".py",
   "mimetype": "text/x-python",
   "name": "python",
   "nbconvert_exporter": "python",
   "pygments_lexer": "ipython3",
   "version": "3.9.12"
  }
 },
 "nbformat": 4,
 "nbformat_minor": 5
}
