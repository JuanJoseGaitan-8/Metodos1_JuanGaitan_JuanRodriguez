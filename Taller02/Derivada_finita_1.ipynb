{
 "cells": [
  {
   "cell_type": "markdown",
   "id": "13e78e8f",
   "metadata": {},
   "source": [
    "# Taller 02\n",
    "### Métodos Computacionales 1 "
   ]
  },
  {
   "cell_type": "code",
   "execution_count": 1,
   "id": "0e1d4613",
   "metadata": {},
   "outputs": [],
   "source": [
    "%matplotlib notebook\n",
    "import numpy as np\n",
    "import matplotlib.pyplot as plt"
   ]
  },
  {
   "cell_type": "markdown",
   "id": "a1320fee",
   "metadata": {},
   "source": [
    "## Punto 1.1"
   ]
  },
  {
   "cell_type": "markdown",
   "id": "c21fe2c9",
   "metadata": {},
   "source": [
    "<img src=\"image1.jpg\">"
   ]
  }
 ],
 "metadata": {
  "kernelspec": {
   "display_name": "Python 3 (ipykernel)",
   "language": "python",
   "name": "python3"
  },
  "language_info": {
   "codemirror_mode": {
    "name": "ipython",
    "version": 3
   },
   "file_extension": ".py",
   "mimetype": "text/x-python",
   "name": "python",
   "nbconvert_exporter": "python",
   "pygments_lexer": "ipython3",
   "version": "3.9.12"
  }
 },
 "nbformat": 4,
 "nbformat_minor": 5
}
